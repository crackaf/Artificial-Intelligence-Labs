{
 "metadata": {
  "language_info": {
   "codemirror_mode": {
    "name": "ipython",
    "version": 3
   },
   "file_extension": ".py",
   "mimetype": "text/x-python",
   "name": "python",
   "nbconvert_exporter": "python",
   "pygments_lexer": "ipython3",
   "version": "3.9.2"
  },
  "orig_nbformat": 2,
  "kernelspec": {
   "name": "python392jvsc74a57bd0cddab926b86a0355060d4c1e73e580d75bbe792e0d664150f1138a90cdb68d86",
   "display_name": "Python 3.9.2 64-bit"
  }
 },
 "nbformat": 4,
 "nbformat_minor": 2,
 "cells": [
  {
   "cell_type": "code",
   "execution_count": 256,
   "metadata": {},
   "outputs": [],
   "source": [
    "import pandas as pd\n",
    "import numpy as np\n",
    "# to split the data into train-test parts\n",
    "from sklearn.model_selection import train_test_split\n",
    "# KNN Regressor\n",
    "from sklearn.neighbors import KNeighborsRegressor\n",
    "#Model Evaluation\n",
    "from sklearn.metrics import mean_absolute_error, mean_squared_error\n",
    "#Decision Tree Regressor\n",
    "from sklearn.tree import DecisionTreeRegressor"
   ]
  },
  {
   "source": [
    "## Q1"
   ],
   "cell_type": "markdown",
   "metadata": {}
  },
  {
   "cell_type": "code",
   "execution_count": 257,
   "metadata": {},
   "outputs": [
    {
     "output_type": "execute_result",
     "data": {
      "text/plain": [
       "     Survived  Pclass     Sex   Age Embarked\n",
       "0           0       3    male  22.0        S\n",
       "1           1       1  female  38.0        C\n",
       "2           1       3  female  26.0        S\n",
       "3           1       1  female  35.0        S\n",
       "4           0       3    male  35.0        S\n",
       "..        ...     ...     ...   ...      ...\n",
       "885         0       3  female  39.0        Q\n",
       "886         0       2    male  27.0        S\n",
       "887         1       1  female  19.0        S\n",
       "889         1       1    male  26.0        C\n",
       "890         0       3    male  32.0        Q\n",
       "\n",
       "[712 rows x 5 columns]"
      ],
      "text/html": "<div>\n<style scoped>\n    .dataframe tbody tr th:only-of-type {\n        vertical-align: middle;\n    }\n\n    .dataframe tbody tr th {\n        vertical-align: top;\n    }\n\n    .dataframe thead th {\n        text-align: right;\n    }\n</style>\n<table border=\"1\" class=\"dataframe\">\n  <thead>\n    <tr style=\"text-align: right;\">\n      <th></th>\n      <th>Survived</th>\n      <th>Pclass</th>\n      <th>Sex</th>\n      <th>Age</th>\n      <th>Embarked</th>\n    </tr>\n  </thead>\n  <tbody>\n    <tr>\n      <th>0</th>\n      <td>0</td>\n      <td>3</td>\n      <td>male</td>\n      <td>22.0</td>\n      <td>S</td>\n    </tr>\n    <tr>\n      <th>1</th>\n      <td>1</td>\n      <td>1</td>\n      <td>female</td>\n      <td>38.0</td>\n      <td>C</td>\n    </tr>\n    <tr>\n      <th>2</th>\n      <td>1</td>\n      <td>3</td>\n      <td>female</td>\n      <td>26.0</td>\n      <td>S</td>\n    </tr>\n    <tr>\n      <th>3</th>\n      <td>1</td>\n      <td>1</td>\n      <td>female</td>\n      <td>35.0</td>\n      <td>S</td>\n    </tr>\n    <tr>\n      <th>4</th>\n      <td>0</td>\n      <td>3</td>\n      <td>male</td>\n      <td>35.0</td>\n      <td>S</td>\n    </tr>\n    <tr>\n      <th>...</th>\n      <td>...</td>\n      <td>...</td>\n      <td>...</td>\n      <td>...</td>\n      <td>...</td>\n    </tr>\n    <tr>\n      <th>885</th>\n      <td>0</td>\n      <td>3</td>\n      <td>female</td>\n      <td>39.0</td>\n      <td>Q</td>\n    </tr>\n    <tr>\n      <th>886</th>\n      <td>0</td>\n      <td>2</td>\n      <td>male</td>\n      <td>27.0</td>\n      <td>S</td>\n    </tr>\n    <tr>\n      <th>887</th>\n      <td>1</td>\n      <td>1</td>\n      <td>female</td>\n      <td>19.0</td>\n      <td>S</td>\n    </tr>\n    <tr>\n      <th>889</th>\n      <td>1</td>\n      <td>1</td>\n      <td>male</td>\n      <td>26.0</td>\n      <td>C</td>\n    </tr>\n    <tr>\n      <th>890</th>\n      <td>0</td>\n      <td>3</td>\n      <td>male</td>\n      <td>32.0</td>\n      <td>Q</td>\n    </tr>\n  </tbody>\n</table>\n<p>712 rows × 5 columns</p>\n</div>"
     },
     "metadata": {},
     "execution_count": 257
    }
   ],
   "source": [
    "df = pd.read_csv(\"train.csv\")\n",
    "df = df.filter(items=['Survived', 'Pclass',\n",
    "               'Sex', 'Age', 'Embarked']).dropna()  # trimming the data we need, droping rows with empty col\n",
    "\n",
    "df"
   ]
  },
  {
   "cell_type": "code",
   "execution_count": 258,
   "metadata": {},
   "outputs": [
    {
     "output_type": "execute_result",
     "data": {
      "text/plain": [
       "     Survived  Pclass  Sex  Age  Embarked\n",
       "0           0       3    1    2         0\n",
       "1           1       1    0    3         1\n",
       "2           1       3    0    2         0\n",
       "3           1       1    0    3         0\n",
       "4           0       3    1    3         0\n",
       "..        ...     ...  ...  ...       ...\n",
       "885         0       3    0    3         2\n",
       "886         0       2    1    2         0\n",
       "887         1       1    0    1         0\n",
       "889         1       1    1    2         1\n",
       "890         0       3    1    3         2\n",
       "\n",
       "[712 rows x 5 columns]"
      ],
      "text/html": "<div>\n<style scoped>\n    .dataframe tbody tr th:only-of-type {\n        vertical-align: middle;\n    }\n\n    .dataframe tbody tr th {\n        vertical-align: top;\n    }\n\n    .dataframe thead th {\n        text-align: right;\n    }\n</style>\n<table border=\"1\" class=\"dataframe\">\n  <thead>\n    <tr style=\"text-align: right;\">\n      <th></th>\n      <th>Survived</th>\n      <th>Pclass</th>\n      <th>Sex</th>\n      <th>Age</th>\n      <th>Embarked</th>\n    </tr>\n  </thead>\n  <tbody>\n    <tr>\n      <th>0</th>\n      <td>0</td>\n      <td>3</td>\n      <td>1</td>\n      <td>2</td>\n      <td>0</td>\n    </tr>\n    <tr>\n      <th>1</th>\n      <td>1</td>\n      <td>1</td>\n      <td>0</td>\n      <td>3</td>\n      <td>1</td>\n    </tr>\n    <tr>\n      <th>2</th>\n      <td>1</td>\n      <td>3</td>\n      <td>0</td>\n      <td>2</td>\n      <td>0</td>\n    </tr>\n    <tr>\n      <th>3</th>\n      <td>1</td>\n      <td>1</td>\n      <td>0</td>\n      <td>3</td>\n      <td>0</td>\n    </tr>\n    <tr>\n      <th>4</th>\n      <td>0</td>\n      <td>3</td>\n      <td>1</td>\n      <td>3</td>\n      <td>0</td>\n    </tr>\n    <tr>\n      <th>...</th>\n      <td>...</td>\n      <td>...</td>\n      <td>...</td>\n      <td>...</td>\n      <td>...</td>\n    </tr>\n    <tr>\n      <th>885</th>\n      <td>0</td>\n      <td>3</td>\n      <td>0</td>\n      <td>3</td>\n      <td>2</td>\n    </tr>\n    <tr>\n      <th>886</th>\n      <td>0</td>\n      <td>2</td>\n      <td>1</td>\n      <td>2</td>\n      <td>0</td>\n    </tr>\n    <tr>\n      <th>887</th>\n      <td>1</td>\n      <td>1</td>\n      <td>0</td>\n      <td>1</td>\n      <td>0</td>\n    </tr>\n    <tr>\n      <th>889</th>\n      <td>1</td>\n      <td>1</td>\n      <td>1</td>\n      <td>2</td>\n      <td>1</td>\n    </tr>\n    <tr>\n      <th>890</th>\n      <td>0</td>\n      <td>3</td>\n      <td>1</td>\n      <td>3</td>\n      <td>2</td>\n    </tr>\n  </tbody>\n</table>\n<p>712 rows × 5 columns</p>\n</div>"
     },
     "metadata": {},
     "execution_count": 258
    }
   ],
   "source": [
    "#classifying\n",
    "df['Age']=df['Age'].apply(lambda age: int(age//10) if age<60 else 6)\n",
    "df['Sex']=df['Sex'].apply(lambda sex:1 if sex==\"male\" else 0 )\n",
    "df['Embarked']=df['Embarked'].apply(lambda x:['S','C','Q'].index(x))\n",
    "\n",
    "df"
   ]
  },
  {
   "cell_type": "code",
   "execution_count": 259,
   "metadata": {},
   "outputs": [],
   "source": [
    "x=df.drop(['Survived'],axis=1)\n",
    "y=df['Survived']"
   ]
  },
  {
   "source": [
    "### KNN"
   ],
   "cell_type": "markdown",
   "metadata": {}
  },
  {
   "cell_type": "code",
   "execution_count": 260,
   "metadata": {},
   "outputs": [],
   "source": [
    "X_train,X_test,Y_train,Y_test=train_test_split(x,y,test_size=0.3,random_state=101)"
   ]
  },
  {
   "cell_type": "code",
   "execution_count": 261,
   "metadata": {},
   "outputs": [
    {
     "output_type": "execute_result",
     "data": {
      "text/plain": [
       "     Pclass  Sex  Age  Embarked\n",
       "225       3    1    2         0\n",
       "449       1    1    5         0\n",
       "750       2    0    0         0\n",
       "261       3    1    0         0\n",
       "283       3    1    1         0"
      ],
      "text/html": "<div>\n<style scoped>\n    .dataframe tbody tr th:only-of-type {\n        vertical-align: middle;\n    }\n\n    .dataframe tbody tr th {\n        vertical-align: top;\n    }\n\n    .dataframe thead th {\n        text-align: right;\n    }\n</style>\n<table border=\"1\" class=\"dataframe\">\n  <thead>\n    <tr style=\"text-align: right;\">\n      <th></th>\n      <th>Pclass</th>\n      <th>Sex</th>\n      <th>Age</th>\n      <th>Embarked</th>\n    </tr>\n  </thead>\n  <tbody>\n    <tr>\n      <th>225</th>\n      <td>3</td>\n      <td>1</td>\n      <td>2</td>\n      <td>0</td>\n    </tr>\n    <tr>\n      <th>449</th>\n      <td>1</td>\n      <td>1</td>\n      <td>5</td>\n      <td>0</td>\n    </tr>\n    <tr>\n      <th>750</th>\n      <td>2</td>\n      <td>0</td>\n      <td>0</td>\n      <td>0</td>\n    </tr>\n    <tr>\n      <th>261</th>\n      <td>3</td>\n      <td>1</td>\n      <td>0</td>\n      <td>0</td>\n    </tr>\n    <tr>\n      <th>283</th>\n      <td>3</td>\n      <td>1</td>\n      <td>1</td>\n      <td>0</td>\n    </tr>\n  </tbody>\n</table>\n</div>"
     },
     "metadata": {},
     "execution_count": 261
    }
   ],
   "source": [
    "X_test.head()"
   ]
  },
  {
   "cell_type": "code",
   "execution_count": 262,
   "metadata": {},
   "outputs": [],
   "source": [
    "from sklearn.neighbors import KNeighborsClassifier"
   ]
  },
  {
   "cell_type": "code",
   "execution_count": 263,
   "metadata": {},
   "outputs": [],
   "source": [
    "knn=KNeighborsClassifier(n_neighbors=10)"
   ]
  },
  {
   "cell_type": "code",
   "execution_count": 264,
   "metadata": {},
   "outputs": [
    {
     "output_type": "execute_result",
     "data": {
      "text/plain": [
       "KNeighborsClassifier(n_neighbors=10)"
      ]
     },
     "metadata": {},
     "execution_count": 264
    }
   ],
   "source": [
    "knn.fit(X_train,Y_train)"
   ]
  },
  {
   "cell_type": "code",
   "execution_count": 265,
   "metadata": {},
   "outputs": [],
   "source": [
    "Y_Pred=knn.predict(X_test)"
   ]
  },
  {
   "cell_type": "code",
   "execution_count": 266,
   "metadata": {},
   "outputs": [],
   "source": [
    "from sklearn.metrics import confusion_matrix, classification_report\n",
    "from sklearn.metrics import accuracy_score"
   ]
  },
  {
   "cell_type": "code",
   "execution_count": 267,
   "metadata": {},
   "outputs": [
    {
     "output_type": "execute_result",
     "data": {
      "text/plain": [
       "array([[106,  29],\n",
       "       [ 22,  57]], dtype=int64)"
      ]
     },
     "metadata": {},
     "execution_count": 267
    }
   ],
   "source": [
    "confusion_matrix(Y_Pred,Y_test)"
   ]
  },
  {
   "cell_type": "code",
   "execution_count": 268,
   "metadata": {},
   "outputs": [
    {
     "output_type": "execute_result",
     "data": {
      "text/plain": [
       "'              precision    recall  f1-score   support\\n\\n           0       0.83      0.79      0.81       135\\n           1       0.66      0.72      0.69        79\\n\\n    accuracy                           0.76       214\\n   macro avg       0.75      0.75      0.75       214\\nweighted avg       0.77      0.76      0.76       214\\n'"
      ]
     },
     "metadata": {},
     "execution_count": 268
    }
   ],
   "source": [
    "classification_report(Y_Pred,Y_test)"
   ]
  },
  {
   "cell_type": "code",
   "execution_count": 269,
   "metadata": {},
   "outputs": [
    {
     "output_type": "execute_result",
     "data": {
      "text/plain": [
       "0.7616822429906542"
      ]
     },
     "metadata": {},
     "execution_count": 269
    }
   ],
   "source": [
    "accuracy_score(Y_test, Y_Pred)"
   ]
  },
  {
   "source": [
    "### Decision Tree"
   ],
   "cell_type": "markdown",
   "metadata": {}
  },
  {
   "cell_type": "code",
   "execution_count": 270,
   "metadata": {},
   "outputs": [],
   "source": [
    "# import the model\n",
    "from sklearn.tree import DecisionTreeClassifier\n",
    "from sklearn.metrics import accuracy_score\n",
    "#creating empty model\n",
    "dtc=DecisionTreeClassifier()\n",
    "# model training\n",
    "dtc.fit(X_train,Y_train)\n",
    "# making predictions from model\n",
    "Y_Pred=dtc.predict(X_test)"
   ]
  },
  {
   "cell_type": "code",
   "execution_count": 271,
   "metadata": {},
   "outputs": [
    {
     "output_type": "execute_result",
     "data": {
      "text/plain": [
       "array([[110,  29],\n",
       "       [ 18,  57]], dtype=int64)"
      ]
     },
     "metadata": {},
     "execution_count": 271
    }
   ],
   "source": [
    "confusion_matrix(Y_Pred,Y_test)"
   ]
  },
  {
   "cell_type": "code",
   "execution_count": 272,
   "metadata": {},
   "outputs": [
    {
     "output_type": "execute_result",
     "data": {
      "text/plain": [
       "'              precision    recall  f1-score   support\\n\\n           0       0.86      0.79      0.82       139\\n           1       0.66      0.76      0.71        75\\n\\n    accuracy                           0.78       214\\n   macro avg       0.76      0.78      0.77       214\\nweighted avg       0.79      0.78      0.78       214\\n'"
      ]
     },
     "metadata": {},
     "execution_count": 272
    }
   ],
   "source": [
    "classification_report(Y_Pred,Y_test)"
   ]
  },
  {
   "cell_type": "code",
   "execution_count": 273,
   "metadata": {},
   "outputs": [
    {
     "output_type": "execute_result",
     "data": {
      "text/plain": [
       "0.780373831775701"
      ]
     },
     "metadata": {},
     "execution_count": 273
    }
   ],
   "source": [
    "accuracy_score(Y_test, Y_Pred)"
   ]
  },
  {
   "source": [
    "#### Correctly Identifying Number of Neighbors (k) for KNN"
   ],
   "cell_type": "markdown",
   "metadata": {}
  },
  {
   "cell_type": "code",
   "execution_count": 274,
   "metadata": {},
   "outputs": [],
   "source": [
    "import matplotlib.pyplot as plt"
   ]
  },
  {
   "cell_type": "code",
   "execution_count": 275,
   "metadata": {},
   "outputs": [],
   "source": [
    "error_matrix = []\n",
    "for i in range(1,100):\n",
    "    knn = KNeighborsClassifier(n_neighbors=i)\n",
    "    knn.fit(X_train,Y_train)\n",
    "    Y_pred=knn.predict(X_test)\n",
    "    error_matrix.append(np.mean(Y_pred != Y_test))\n"
   ]
  },
  {
   "cell_type": "code",
   "execution_count": 276,
   "metadata": {},
   "outputs": [
    {
     "output_type": "execute_result",
     "data": {
      "text/plain": [
       "Text(0, 0.5, 'Error rate')"
      ]
     },
     "metadata": {},
     "execution_count": 276
    },
    {
     "output_type": "display_data",
     "data": {
      "text/plain": "<Figure size 720x432 with 1 Axes>",
      "image/svg+xml": "<?xml version=\"1.0\" encoding=\"utf-8\" standalone=\"no\"?>\r\n<!DOCTYPE svg PUBLIC \"-//W3C//DTD SVG 1.1//EN\"\r\n  \"http://www.w3.org/Graphics/SVG/1.1/DTD/svg11.dtd\">\r\n<!-- Created with matplotlib (https://matplotlib.org/) -->\r\n<svg height=\"386.034375pt\" version=\"1.1\" viewBox=\"0 0 615.34375 386.034375\" width=\"615.34375pt\" xmlns=\"http://www.w3.org/2000/svg\" xmlns:xlink=\"http://www.w3.org/1999/xlink\">\r\n <metadata>\r\n  <rdf:RDF xmlns:cc=\"http://creativecommons.org/ns#\" xmlns:dc=\"http://purl.org/dc/elements/1.1/\" xmlns:rdf=\"http://www.w3.org/1999/02/22-rdf-syntax-ns#\">\r\n   <cc:Work>\r\n    <dc:type rdf:resource=\"http://purl.org/dc/dcmitype/StillImage\"/>\r\n    <dc:date>2021-04-28T23:37:24.396813</dc:date>\r\n    <dc:format>image/svg+xml</dc:format>\r\n    <dc:creator>\r\n     <cc:Agent>\r\n      <dc:title>Matplotlib v3.3.4, https://matplotlib.org/</dc:title>\r\n     </cc:Agent>\r\n    </dc:creator>\r\n   </cc:Work>\r\n  </rdf:RDF>\r\n </metadata>\r\n <defs>\r\n  <style type=\"text/css\">*{stroke-linecap:butt;stroke-linejoin:round;}</style>\r\n </defs>\r\n <g id=\"figure_1\">\r\n  <g id=\"patch_1\">\r\n   <path d=\"M 0 386.034375 \r\nL 615.34375 386.034375 \r\nL 615.34375 0 \r\nL 0 0 \r\nz\r\n\" style=\"fill:none;\"/>\r\n  </g>\r\n  <g id=\"axes_1\">\r\n   <g id=\"patch_2\">\r\n    <path d=\"M 50.14375 348.478125 \r\nL 608.14375 348.478125 \r\nL 608.14375 22.318125 \r\nL 50.14375 22.318125 \r\nz\r\n\" style=\"fill:#ffffff;\"/>\r\n   </g>\r\n   <g id=\"matplotlib.axis_1\">\r\n    <g id=\"xtick_1\">\r\n     <g id=\"line2d_1\">\r\n      <defs>\r\n       <path d=\"M 0 0 \r\nL 0 3.5 \r\n\" id=\"m5035925d86\" style=\"stroke:#000000;stroke-width:0.8;\"/>\r\n      </defs>\r\n      <g>\r\n       <use style=\"stroke:#000000;stroke-width:0.8;\" x=\"70.331134\" xlink:href=\"#m5035925d86\" y=\"348.478125\"/>\r\n      </g>\r\n     </g>\r\n     <g id=\"text_1\">\r\n      <!-- 0 -->\r\n      <g transform=\"translate(67.149884 363.076562)scale(0.1 -0.1)\">\r\n       <defs>\r\n        <path d=\"M 31.78125 66.40625 \r\nQ 24.171875 66.40625 20.328125 58.90625 \r\nQ 16.5 51.421875 16.5 36.375 \r\nQ 16.5 21.390625 20.328125 13.890625 \r\nQ 24.171875 6.390625 31.78125 6.390625 \r\nQ 39.453125 6.390625 43.28125 13.890625 \r\nQ 47.125 21.390625 47.125 36.375 \r\nQ 47.125 51.421875 43.28125 58.90625 \r\nQ 39.453125 66.40625 31.78125 66.40625 \r\nz\r\nM 31.78125 74.21875 \r\nQ 44.046875 74.21875 50.515625 64.515625 \r\nQ 56.984375 54.828125 56.984375 36.375 \r\nQ 56.984375 17.96875 50.515625 8.265625 \r\nQ 44.046875 -1.421875 31.78125 -1.421875 \r\nQ 19.53125 -1.421875 13.0625 8.265625 \r\nQ 6.59375 17.96875 6.59375 36.375 \r\nQ 6.59375 54.828125 13.0625 64.515625 \r\nQ 19.53125 74.21875 31.78125 74.21875 \r\nz\r\n\" id=\"DejaVuSans-48\"/>\r\n       </defs>\r\n       <use xlink:href=\"#DejaVuSans-48\"/>\r\n      </g>\r\n     </g>\r\n    </g>\r\n    <g id=\"xtick_2\">\r\n     <g id=\"line2d_2\">\r\n      <g>\r\n       <use style=\"stroke:#000000;stroke-width:0.8;\" x=\"173.85618\" xlink:href=\"#m5035925d86\" y=\"348.478125\"/>\r\n      </g>\r\n     </g>\r\n     <g id=\"text_2\">\r\n      <!-- 20 -->\r\n      <g transform=\"translate(167.49368 363.076562)scale(0.1 -0.1)\">\r\n       <defs>\r\n        <path d=\"M 19.1875 8.296875 \r\nL 53.609375 8.296875 \r\nL 53.609375 0 \r\nL 7.328125 0 \r\nL 7.328125 8.296875 \r\nQ 12.9375 14.109375 22.625 23.890625 \r\nQ 32.328125 33.6875 34.8125 36.53125 \r\nQ 39.546875 41.84375 41.421875 45.53125 \r\nQ 43.3125 49.21875 43.3125 52.78125 \r\nQ 43.3125 58.59375 39.234375 62.25 \r\nQ 35.15625 65.921875 28.609375 65.921875 \r\nQ 23.96875 65.921875 18.8125 64.3125 \r\nQ 13.671875 62.703125 7.8125 59.421875 \r\nL 7.8125 69.390625 \r\nQ 13.765625 71.78125 18.9375 73 \r\nQ 24.125 74.21875 28.421875 74.21875 \r\nQ 39.75 74.21875 46.484375 68.546875 \r\nQ 53.21875 62.890625 53.21875 53.421875 \r\nQ 53.21875 48.921875 51.53125 44.890625 \r\nQ 49.859375 40.875 45.40625 35.40625 \r\nQ 44.1875 33.984375 37.640625 27.21875 \r\nQ 31.109375 20.453125 19.1875 8.296875 \r\nz\r\n\" id=\"DejaVuSans-50\"/>\r\n       </defs>\r\n       <use xlink:href=\"#DejaVuSans-50\"/>\r\n       <use x=\"63.623047\" xlink:href=\"#DejaVuSans-48\"/>\r\n      </g>\r\n     </g>\r\n    </g>\r\n    <g id=\"xtick_3\">\r\n     <g id=\"line2d_3\">\r\n      <g>\r\n       <use style=\"stroke:#000000;stroke-width:0.8;\" x=\"277.381227\" xlink:href=\"#m5035925d86\" y=\"348.478125\"/>\r\n      </g>\r\n     </g>\r\n     <g id=\"text_3\">\r\n      <!-- 40 -->\r\n      <g transform=\"translate(271.018727 363.076562)scale(0.1 -0.1)\">\r\n       <defs>\r\n        <path d=\"M 37.796875 64.3125 \r\nL 12.890625 25.390625 \r\nL 37.796875 25.390625 \r\nz\r\nM 35.203125 72.90625 \r\nL 47.609375 72.90625 \r\nL 47.609375 25.390625 \r\nL 58.015625 25.390625 \r\nL 58.015625 17.1875 \r\nL 47.609375 17.1875 \r\nL 47.609375 0 \r\nL 37.796875 0 \r\nL 37.796875 17.1875 \r\nL 4.890625 17.1875 \r\nL 4.890625 26.703125 \r\nz\r\n\" id=\"DejaVuSans-52\"/>\r\n       </defs>\r\n       <use xlink:href=\"#DejaVuSans-52\"/>\r\n       <use x=\"63.623047\" xlink:href=\"#DejaVuSans-48\"/>\r\n      </g>\r\n     </g>\r\n    </g>\r\n    <g id=\"xtick_4\">\r\n     <g id=\"line2d_4\">\r\n      <g>\r\n       <use style=\"stroke:#000000;stroke-width:0.8;\" x=\"380.906273\" xlink:href=\"#m5035925d86\" y=\"348.478125\"/>\r\n      </g>\r\n     </g>\r\n     <g id=\"text_4\">\r\n      <!-- 60 -->\r\n      <g transform=\"translate(374.543773 363.076562)scale(0.1 -0.1)\">\r\n       <defs>\r\n        <path d=\"M 33.015625 40.375 \r\nQ 26.375 40.375 22.484375 35.828125 \r\nQ 18.609375 31.296875 18.609375 23.390625 \r\nQ 18.609375 15.53125 22.484375 10.953125 \r\nQ 26.375 6.390625 33.015625 6.390625 \r\nQ 39.65625 6.390625 43.53125 10.953125 \r\nQ 47.40625 15.53125 47.40625 23.390625 \r\nQ 47.40625 31.296875 43.53125 35.828125 \r\nQ 39.65625 40.375 33.015625 40.375 \r\nz\r\nM 52.59375 71.296875 \r\nL 52.59375 62.3125 \r\nQ 48.875 64.0625 45.09375 64.984375 \r\nQ 41.3125 65.921875 37.59375 65.921875 \r\nQ 27.828125 65.921875 22.671875 59.328125 \r\nQ 17.53125 52.734375 16.796875 39.40625 \r\nQ 19.671875 43.65625 24.015625 45.921875 \r\nQ 28.375 48.1875 33.59375 48.1875 \r\nQ 44.578125 48.1875 50.953125 41.515625 \r\nQ 57.328125 34.859375 57.328125 23.390625 \r\nQ 57.328125 12.15625 50.6875 5.359375 \r\nQ 44.046875 -1.421875 33.015625 -1.421875 \r\nQ 20.359375 -1.421875 13.671875 8.265625 \r\nQ 6.984375 17.96875 6.984375 36.375 \r\nQ 6.984375 53.65625 15.1875 63.9375 \r\nQ 23.390625 74.21875 37.203125 74.21875 \r\nQ 40.921875 74.21875 44.703125 73.484375 \r\nQ 48.484375 72.75 52.59375 71.296875 \r\nz\r\n\" id=\"DejaVuSans-54\"/>\r\n       </defs>\r\n       <use xlink:href=\"#DejaVuSans-54\"/>\r\n       <use x=\"63.623047\" xlink:href=\"#DejaVuSans-48\"/>\r\n      </g>\r\n     </g>\r\n    </g>\r\n    <g id=\"xtick_5\">\r\n     <g id=\"line2d_5\">\r\n      <g>\r\n       <use style=\"stroke:#000000;stroke-width:0.8;\" x=\"484.43132\" xlink:href=\"#m5035925d86\" y=\"348.478125\"/>\r\n      </g>\r\n     </g>\r\n     <g id=\"text_5\">\r\n      <!-- 80 -->\r\n      <g transform=\"translate(478.06882 363.076562)scale(0.1 -0.1)\">\r\n       <defs>\r\n        <path d=\"M 31.78125 34.625 \r\nQ 24.75 34.625 20.71875 30.859375 \r\nQ 16.703125 27.09375 16.703125 20.515625 \r\nQ 16.703125 13.921875 20.71875 10.15625 \r\nQ 24.75 6.390625 31.78125 6.390625 \r\nQ 38.8125 6.390625 42.859375 10.171875 \r\nQ 46.921875 13.96875 46.921875 20.515625 \r\nQ 46.921875 27.09375 42.890625 30.859375 \r\nQ 38.875 34.625 31.78125 34.625 \r\nz\r\nM 21.921875 38.8125 \r\nQ 15.578125 40.375 12.03125 44.71875 \r\nQ 8.5 49.078125 8.5 55.328125 \r\nQ 8.5 64.0625 14.71875 69.140625 \r\nQ 20.953125 74.21875 31.78125 74.21875 \r\nQ 42.671875 74.21875 48.875 69.140625 \r\nQ 55.078125 64.0625 55.078125 55.328125 \r\nQ 55.078125 49.078125 51.53125 44.71875 \r\nQ 48 40.375 41.703125 38.8125 \r\nQ 48.828125 37.15625 52.796875 32.3125 \r\nQ 56.78125 27.484375 56.78125 20.515625 \r\nQ 56.78125 9.90625 50.3125 4.234375 \r\nQ 43.84375 -1.421875 31.78125 -1.421875 \r\nQ 19.734375 -1.421875 13.25 4.234375 \r\nQ 6.78125 9.90625 6.78125 20.515625 \r\nQ 6.78125 27.484375 10.78125 32.3125 \r\nQ 14.796875 37.15625 21.921875 38.8125 \r\nz\r\nM 18.3125 54.390625 \r\nQ 18.3125 48.734375 21.84375 45.5625 \r\nQ 25.390625 42.390625 31.78125 42.390625 \r\nQ 38.140625 42.390625 41.71875 45.5625 \r\nQ 45.3125 48.734375 45.3125 54.390625 \r\nQ 45.3125 60.0625 41.71875 63.234375 \r\nQ 38.140625 66.40625 31.78125 66.40625 \r\nQ 25.390625 66.40625 21.84375 63.234375 \r\nQ 18.3125 60.0625 18.3125 54.390625 \r\nz\r\n\" id=\"DejaVuSans-56\"/>\r\n       </defs>\r\n       <use xlink:href=\"#DejaVuSans-56\"/>\r\n       <use x=\"63.623047\" xlink:href=\"#DejaVuSans-48\"/>\r\n      </g>\r\n     </g>\r\n    </g>\r\n    <g id=\"xtick_6\">\r\n     <g id=\"line2d_6\">\r\n      <g>\r\n       <use style=\"stroke:#000000;stroke-width:0.8;\" x=\"587.956366\" xlink:href=\"#m5035925d86\" y=\"348.478125\"/>\r\n      </g>\r\n     </g>\r\n     <g id=\"text_6\">\r\n      <!-- 100 -->\r\n      <g transform=\"translate(578.412616 363.076562)scale(0.1 -0.1)\">\r\n       <defs>\r\n        <path d=\"M 12.40625 8.296875 \r\nL 28.515625 8.296875 \r\nL 28.515625 63.921875 \r\nL 10.984375 60.40625 \r\nL 10.984375 69.390625 \r\nL 28.421875 72.90625 \r\nL 38.28125 72.90625 \r\nL 38.28125 8.296875 \r\nL 54.390625 8.296875 \r\nL 54.390625 0 \r\nL 12.40625 0 \r\nz\r\n\" id=\"DejaVuSans-49\"/>\r\n       </defs>\r\n       <use xlink:href=\"#DejaVuSans-49\"/>\r\n       <use x=\"63.623047\" xlink:href=\"#DejaVuSans-48\"/>\r\n       <use x=\"127.246094\" xlink:href=\"#DejaVuSans-48\"/>\r\n      </g>\r\n     </g>\r\n    </g>\r\n    <g id=\"text_7\">\r\n     <!-- K -->\r\n     <g transform=\"translate(325.864844 376.754687)scale(0.1 -0.1)\">\r\n      <defs>\r\n       <path d=\"M 9.8125 72.90625 \r\nL 19.671875 72.90625 \r\nL 19.671875 42.09375 \r\nL 52.390625 72.90625 \r\nL 65.09375 72.90625 \r\nL 28.90625 38.921875 \r\nL 67.671875 0 \r\nL 54.6875 0 \r\nL 19.671875 35.109375 \r\nL 19.671875 0 \r\nL 9.8125 0 \r\nz\r\n\" id=\"DejaVuSans-75\"/>\r\n      </defs>\r\n      <use xlink:href=\"#DejaVuSans-75\"/>\r\n     </g>\r\n    </g>\r\n   </g>\r\n   <g id=\"matplotlib.axis_2\">\r\n    <g id=\"ytick_1\">\r\n     <g id=\"line2d_7\">\r\n      <defs>\r\n       <path d=\"M 0 0 \r\nL -3.5 0 \r\n\" id=\"m51cb8b1d32\" style=\"stroke:#000000;stroke-width:0.8;\"/>\r\n      </defs>\r\n      <g>\r\n       <use style=\"stroke:#000000;stroke-width:0.8;\" x=\"50.14375\" xlink:href=\"#m51cb8b1d32\" y=\"340.430021\"/>\r\n      </g>\r\n     </g>\r\n     <g id=\"text_8\">\r\n      <!-- 0.18 -->\r\n      <g transform=\"translate(20.878125 344.22924)scale(0.1 -0.1)\">\r\n       <defs>\r\n        <path d=\"M 10.6875 12.40625 \r\nL 21 12.40625 \r\nL 21 0 \r\nL 10.6875 0 \r\nz\r\n\" id=\"DejaVuSans-46\"/>\r\n       </defs>\r\n       <use xlink:href=\"#DejaVuSans-48\"/>\r\n       <use x=\"63.623047\" xlink:href=\"#DejaVuSans-46\"/>\r\n       <use x=\"95.410156\" xlink:href=\"#DejaVuSans-49\"/>\r\n       <use x=\"159.033203\" xlink:href=\"#DejaVuSans-56\"/>\r\n      </g>\r\n     </g>\r\n    </g>\r\n    <g id=\"ytick_2\">\r\n     <g id=\"line2d_8\">\r\n      <g>\r\n       <use style=\"stroke:#000000;stroke-width:0.8;\" x=\"50.14375\" xlink:href=\"#m51cb8b1d32\" y=\"279.998644\"/>\r\n      </g>\r\n     </g>\r\n     <g id=\"text_9\">\r\n      <!-- 0.20 -->\r\n      <g transform=\"translate(20.878125 283.797863)scale(0.1 -0.1)\">\r\n       <use xlink:href=\"#DejaVuSans-48\"/>\r\n       <use x=\"63.623047\" xlink:href=\"#DejaVuSans-46\"/>\r\n       <use x=\"95.410156\" xlink:href=\"#DejaVuSans-50\"/>\r\n       <use x=\"159.033203\" xlink:href=\"#DejaVuSans-48\"/>\r\n      </g>\r\n     </g>\r\n    </g>\r\n    <g id=\"ytick_3\">\r\n     <g id=\"line2d_9\">\r\n      <g>\r\n       <use style=\"stroke:#000000;stroke-width:0.8;\" x=\"50.14375\" xlink:href=\"#m51cb8b1d32\" y=\"219.567268\"/>\r\n      </g>\r\n     </g>\r\n     <g id=\"text_10\">\r\n      <!-- 0.22 -->\r\n      <g transform=\"translate(20.878125 223.366487)scale(0.1 -0.1)\">\r\n       <use xlink:href=\"#DejaVuSans-48\"/>\r\n       <use x=\"63.623047\" xlink:href=\"#DejaVuSans-46\"/>\r\n       <use x=\"95.410156\" xlink:href=\"#DejaVuSans-50\"/>\r\n       <use x=\"159.033203\" xlink:href=\"#DejaVuSans-50\"/>\r\n      </g>\r\n     </g>\r\n    </g>\r\n    <g id=\"ytick_4\">\r\n     <g id=\"line2d_10\">\r\n      <g>\r\n       <use style=\"stroke:#000000;stroke-width:0.8;\" x=\"50.14375\" xlink:href=\"#m51cb8b1d32\" y=\"159.135891\"/>\r\n      </g>\r\n     </g>\r\n     <g id=\"text_11\">\r\n      <!-- 0.24 -->\r\n      <g transform=\"translate(20.878125 162.93511)scale(0.1 -0.1)\">\r\n       <use xlink:href=\"#DejaVuSans-48\"/>\r\n       <use x=\"63.623047\" xlink:href=\"#DejaVuSans-46\"/>\r\n       <use x=\"95.410156\" xlink:href=\"#DejaVuSans-50\"/>\r\n       <use x=\"159.033203\" xlink:href=\"#DejaVuSans-52\"/>\r\n      </g>\r\n     </g>\r\n    </g>\r\n    <g id=\"ytick_5\">\r\n     <g id=\"line2d_11\">\r\n      <g>\r\n       <use style=\"stroke:#000000;stroke-width:0.8;\" x=\"50.14375\" xlink:href=\"#m51cb8b1d32\" y=\"98.704515\"/>\r\n      </g>\r\n     </g>\r\n     <g id=\"text_12\">\r\n      <!-- 0.26 -->\r\n      <g transform=\"translate(20.878125 102.503733)scale(0.1 -0.1)\">\r\n       <use xlink:href=\"#DejaVuSans-48\"/>\r\n       <use x=\"63.623047\" xlink:href=\"#DejaVuSans-46\"/>\r\n       <use x=\"95.410156\" xlink:href=\"#DejaVuSans-50\"/>\r\n       <use x=\"159.033203\" xlink:href=\"#DejaVuSans-54\"/>\r\n      </g>\r\n     </g>\r\n    </g>\r\n    <g id=\"ytick_6\">\r\n     <g id=\"line2d_12\">\r\n      <g>\r\n       <use style=\"stroke:#000000;stroke-width:0.8;\" x=\"50.14375\" xlink:href=\"#m51cb8b1d32\" y=\"38.273138\"/>\r\n      </g>\r\n     </g>\r\n     <g id=\"text_13\">\r\n      <!-- 0.28 -->\r\n      <g transform=\"translate(20.878125 42.072357)scale(0.1 -0.1)\">\r\n       <use xlink:href=\"#DejaVuSans-48\"/>\r\n       <use x=\"63.623047\" xlink:href=\"#DejaVuSans-46\"/>\r\n       <use x=\"95.410156\" xlink:href=\"#DejaVuSans-50\"/>\r\n       <use x=\"159.033203\" xlink:href=\"#DejaVuSans-56\"/>\r\n      </g>\r\n     </g>\r\n    </g>\r\n    <g id=\"text_14\">\r\n     <!-- Error rate -->\r\n     <g transform=\"translate(14.798437 209.328594)rotate(-90)scale(0.1 -0.1)\">\r\n      <defs>\r\n       <path d=\"M 9.8125 72.90625 \r\nL 55.90625 72.90625 \r\nL 55.90625 64.59375 \r\nL 19.671875 64.59375 \r\nL 19.671875 43.015625 \r\nL 54.390625 43.015625 \r\nL 54.390625 34.71875 \r\nL 19.671875 34.71875 \r\nL 19.671875 8.296875 \r\nL 56.78125 8.296875 \r\nL 56.78125 0 \r\nL 9.8125 0 \r\nz\r\n\" id=\"DejaVuSans-69\"/>\r\n       <path d=\"M 41.109375 46.296875 \r\nQ 39.59375 47.171875 37.8125 47.578125 \r\nQ 36.03125 48 33.890625 48 \r\nQ 26.265625 48 22.1875 43.046875 \r\nQ 18.109375 38.09375 18.109375 28.8125 \r\nL 18.109375 0 \r\nL 9.078125 0 \r\nL 9.078125 54.6875 \r\nL 18.109375 54.6875 \r\nL 18.109375 46.1875 \r\nQ 20.953125 51.171875 25.484375 53.578125 \r\nQ 30.03125 56 36.53125 56 \r\nQ 37.453125 56 38.578125 55.875 \r\nQ 39.703125 55.765625 41.0625 55.515625 \r\nz\r\n\" id=\"DejaVuSans-114\"/>\r\n       <path d=\"M 30.609375 48.390625 \r\nQ 23.390625 48.390625 19.1875 42.75 \r\nQ 14.984375 37.109375 14.984375 27.296875 \r\nQ 14.984375 17.484375 19.15625 11.84375 \r\nQ 23.34375 6.203125 30.609375 6.203125 \r\nQ 37.796875 6.203125 41.984375 11.859375 \r\nQ 46.1875 17.53125 46.1875 27.296875 \r\nQ 46.1875 37.015625 41.984375 42.703125 \r\nQ 37.796875 48.390625 30.609375 48.390625 \r\nz\r\nM 30.609375 56 \r\nQ 42.328125 56 49.015625 48.375 \r\nQ 55.71875 40.765625 55.71875 27.296875 \r\nQ 55.71875 13.875 49.015625 6.21875 \r\nQ 42.328125 -1.421875 30.609375 -1.421875 \r\nQ 18.84375 -1.421875 12.171875 6.21875 \r\nQ 5.515625 13.875 5.515625 27.296875 \r\nQ 5.515625 40.765625 12.171875 48.375 \r\nQ 18.84375 56 30.609375 56 \r\nz\r\n\" id=\"DejaVuSans-111\"/>\r\n       <path id=\"DejaVuSans-32\"/>\r\n       <path d=\"M 34.28125 27.484375 \r\nQ 23.390625 27.484375 19.1875 25 \r\nQ 14.984375 22.515625 14.984375 16.5 \r\nQ 14.984375 11.71875 18.140625 8.90625 \r\nQ 21.296875 6.109375 26.703125 6.109375 \r\nQ 34.1875 6.109375 38.703125 11.40625 \r\nQ 43.21875 16.703125 43.21875 25.484375 \r\nL 43.21875 27.484375 \r\nz\r\nM 52.203125 31.203125 \r\nL 52.203125 0 \r\nL 43.21875 0 \r\nL 43.21875 8.296875 \r\nQ 40.140625 3.328125 35.546875 0.953125 \r\nQ 30.953125 -1.421875 24.3125 -1.421875 \r\nQ 15.921875 -1.421875 10.953125 3.296875 \r\nQ 6 8.015625 6 15.921875 \r\nQ 6 25.140625 12.171875 29.828125 \r\nQ 18.359375 34.515625 30.609375 34.515625 \r\nL 43.21875 34.515625 \r\nL 43.21875 35.40625 \r\nQ 43.21875 41.609375 39.140625 45 \r\nQ 35.0625 48.390625 27.6875 48.390625 \r\nQ 23 48.390625 18.546875 47.265625 \r\nQ 14.109375 46.140625 10.015625 43.890625 \r\nL 10.015625 52.203125 \r\nQ 14.9375 54.109375 19.578125 55.046875 \r\nQ 24.21875 56 28.609375 56 \r\nQ 40.484375 56 46.34375 49.84375 \r\nQ 52.203125 43.703125 52.203125 31.203125 \r\nz\r\n\" id=\"DejaVuSans-97\"/>\r\n       <path d=\"M 18.3125 70.21875 \r\nL 18.3125 54.6875 \r\nL 36.8125 54.6875 \r\nL 36.8125 47.703125 \r\nL 18.3125 47.703125 \r\nL 18.3125 18.015625 \r\nQ 18.3125 11.328125 20.140625 9.421875 \r\nQ 21.96875 7.515625 27.59375 7.515625 \r\nL 36.8125 7.515625 \r\nL 36.8125 0 \r\nL 27.59375 0 \r\nQ 17.1875 0 13.234375 3.875 \r\nQ 9.28125 7.765625 9.28125 18.015625 \r\nL 9.28125 47.703125 \r\nL 2.6875 47.703125 \r\nL 2.6875 54.6875 \r\nL 9.28125 54.6875 \r\nL 9.28125 70.21875 \r\nz\r\n\" id=\"DejaVuSans-116\"/>\r\n       <path d=\"M 56.203125 29.59375 \r\nL 56.203125 25.203125 \r\nL 14.890625 25.203125 \r\nQ 15.484375 15.921875 20.484375 11.0625 \r\nQ 25.484375 6.203125 34.421875 6.203125 \r\nQ 39.59375 6.203125 44.453125 7.46875 \r\nQ 49.3125 8.734375 54.109375 11.28125 \r\nL 54.109375 2.78125 \r\nQ 49.265625 0.734375 44.1875 -0.34375 \r\nQ 39.109375 -1.421875 33.890625 -1.421875 \r\nQ 20.796875 -1.421875 13.15625 6.1875 \r\nQ 5.515625 13.8125 5.515625 26.8125 \r\nQ 5.515625 40.234375 12.765625 48.109375 \r\nQ 20.015625 56 32.328125 56 \r\nQ 43.359375 56 49.78125 48.890625 \r\nQ 56.203125 41.796875 56.203125 29.59375 \r\nz\r\nM 47.21875 32.234375 \r\nQ 47.125 39.59375 43.09375 43.984375 \r\nQ 39.0625 48.390625 32.421875 48.390625 \r\nQ 24.90625 48.390625 20.390625 44.140625 \r\nQ 15.875 39.890625 15.1875 32.171875 \r\nz\r\n\" id=\"DejaVuSans-101\"/>\r\n      </defs>\r\n      <use xlink:href=\"#DejaVuSans-69\"/>\r\n      <use x=\"63.183594\" xlink:href=\"#DejaVuSans-114\"/>\r\n      <use x=\"102.546875\" xlink:href=\"#DejaVuSans-114\"/>\r\n      <use x=\"141.410156\" xlink:href=\"#DejaVuSans-111\"/>\r\n      <use x=\"202.591797\" xlink:href=\"#DejaVuSans-114\"/>\r\n      <use x=\"243.705078\" xlink:href=\"#DejaVuSans-32\"/>\r\n      <use x=\"275.492188\" xlink:href=\"#DejaVuSans-114\"/>\r\n      <use x=\"316.605469\" xlink:href=\"#DejaVuSans-97\"/>\r\n      <use x=\"377.884766\" xlink:href=\"#DejaVuSans-116\"/>\r\n      <use x=\"417.09375\" xlink:href=\"#DejaVuSans-101\"/>\r\n     </g>\r\n    </g>\r\n   </g>\r\n   <g id=\"line2d_13\">\r\n    <path clip-path=\"url(#pd98c33f2b7)\" d=\"M 75.507386 277.174748 \r\nL 80.683639 248.935787 \r\nL 85.859891 150.099424 \r\nL 91.036143 277.174748 \r\nL 96.212396 263.055268 \r\nL 101.388648 248.935787 \r\nL 106.5649 178.338385 \r\nL 111.741153 248.935787 \r\nL 116.917405 164.218904 \r\nL 122.093657 164.218904 \r\nL 127.26991 93.621502 \r\nL 132.446162 135.979943 \r\nL 137.622414 107.740982 \r\nL 142.798667 164.218904 \r\nL 147.974919 51.26306 \r\nL 153.151171 248.935787 \r\nL 158.327423 93.621502 \r\nL 163.503676 135.979943 \r\nL 168.679928 37.14358 \r\nL 173.85618 178.338385 \r\nL 179.032433 164.218904 \r\nL 184.208685 164.218904 \r\nL 189.384937 164.218904 \r\nL 194.56119 164.218904 \r\nL 199.737442 220.696826 \r\nL 204.913694 220.696826 \r\nL 210.089947 220.696826 \r\nL 215.266199 248.935787 \r\nL 220.442451 248.935787 \r\nL 225.618704 248.935787 \r\nL 230.794956 248.935787 \r\nL 235.971208 248.935787 \r\nL 241.147461 248.935787 \r\nL 246.323713 248.935787 \r\nL 251.499965 248.935787 \r\nL 256.676218 333.65267 \r\nL 261.85247 234.816307 \r\nL 267.028722 277.174748 \r\nL 272.204974 277.174748 \r\nL 277.381227 277.174748 \r\nL 282.557479 291.294229 \r\nL 287.733731 291.294229 \r\nL 292.909984 291.294229 \r\nL 298.086236 333.65267 \r\nL 303.262488 319.53319 \r\nL 308.438741 291.294229 \r\nL 313.614993 291.294229 \r\nL 318.791245 220.696826 \r\nL 323.967498 333.65267 \r\nL 329.14375 319.53319 \r\nL 334.320002 291.294229 \r\nL 339.496255 206.577346 \r\nL 344.672507 291.294229 \r\nL 349.848759 206.577346 \r\nL 355.025012 206.577346 \r\nL 360.201264 206.577346 \r\nL 365.377516 206.577346 \r\nL 370.553769 150.099424 \r\nL 375.730021 206.577346 \r\nL 380.906273 164.218904 \r\nL 386.082526 135.979943 \r\nL 391.258778 135.979943 \r\nL 396.43503 248.935787 \r\nL 401.611282 220.696826 \r\nL 406.787535 277.174748 \r\nL 411.963787 248.935787 \r\nL 417.140039 248.935787 \r\nL 422.316292 206.577346 \r\nL 427.492544 220.696826 \r\nL 432.668796 248.935787 \r\nL 437.845049 248.935787 \r\nL 443.021301 263.055268 \r\nL 448.197553 234.816307 \r\nL 453.373806 234.816307 \r\nL 458.550058 206.577346 \r\nL 463.72631 206.577346 \r\nL 468.902563 291.294229 \r\nL 474.078815 192.457865 \r\nL 479.255067 192.457865 \r\nL 484.43132 178.338385 \r\nL 489.607572 206.577346 \r\nL 494.783824 206.577346 \r\nL 499.960077 263.055268 \r\nL 505.136329 263.055268 \r\nL 510.312581 277.174748 \r\nL 515.488833 277.174748 \r\nL 520.665086 234.816307 \r\nL 525.841338 234.816307 \r\nL 531.01759 291.294229 \r\nL 536.193843 263.055268 \r\nL 541.370095 248.935787 \r\nL 546.546347 291.294229 \r\nL 551.7226 248.935787 \r\nL 556.898852 277.174748 \r\nL 562.075104 277.174748 \r\nL 567.251357 206.577346 \r\nL 572.427609 263.055268 \r\nL 577.603861 206.577346 \r\nL 582.780114 220.696826 \r\n\" style=\"fill:none;stroke:#0000ff;stroke-dasharray:5.55,2.4;stroke-dashoffset:0;stroke-width:1.5;\"/>\r\n    <defs>\r\n     <path d=\"M 0 5 \r\nC 1.326016 5 2.597899 4.473168 3.535534 3.535534 \r\nC 4.473168 2.597899 5 1.326016 5 0 \r\nC 5 -1.326016 4.473168 -2.597899 3.535534 -3.535534 \r\nC 2.597899 -4.473168 1.326016 -5 0 -5 \r\nC -1.326016 -5 -2.597899 -4.473168 -3.535534 -3.535534 \r\nC -4.473168 -2.597899 -5 -1.326016 -5 0 \r\nC -5 1.326016 -4.473168 2.597899 -3.535534 3.535534 \r\nC -2.597899 4.473168 -1.326016 5 0 5 \r\nz\r\n\" id=\"m8676a8a875\" style=\"stroke:#0000ff;\"/>\r\n    </defs>\r\n    <g clip-path=\"url(#pd98c33f2b7)\">\r\n     <use style=\"fill:#ff0000;stroke:#0000ff;\" x=\"75.507386\" xlink:href=\"#m8676a8a875\" y=\"277.174748\"/>\r\n     <use style=\"fill:#ff0000;stroke:#0000ff;\" x=\"80.683639\" xlink:href=\"#m8676a8a875\" y=\"248.935787\"/>\r\n     <use style=\"fill:#ff0000;stroke:#0000ff;\" x=\"85.859891\" xlink:href=\"#m8676a8a875\" y=\"150.099424\"/>\r\n     <use style=\"fill:#ff0000;stroke:#0000ff;\" x=\"91.036143\" xlink:href=\"#m8676a8a875\" y=\"277.174748\"/>\r\n     <use style=\"fill:#ff0000;stroke:#0000ff;\" x=\"96.212396\" xlink:href=\"#m8676a8a875\" y=\"263.055268\"/>\r\n     <use style=\"fill:#ff0000;stroke:#0000ff;\" x=\"101.388648\" xlink:href=\"#m8676a8a875\" y=\"248.935787\"/>\r\n     <use style=\"fill:#ff0000;stroke:#0000ff;\" x=\"106.5649\" xlink:href=\"#m8676a8a875\" y=\"178.338385\"/>\r\n     <use style=\"fill:#ff0000;stroke:#0000ff;\" x=\"111.741153\" xlink:href=\"#m8676a8a875\" y=\"248.935787\"/>\r\n     <use style=\"fill:#ff0000;stroke:#0000ff;\" x=\"116.917405\" xlink:href=\"#m8676a8a875\" y=\"164.218904\"/>\r\n     <use style=\"fill:#ff0000;stroke:#0000ff;\" x=\"122.093657\" xlink:href=\"#m8676a8a875\" y=\"164.218904\"/>\r\n     <use style=\"fill:#ff0000;stroke:#0000ff;\" x=\"127.26991\" xlink:href=\"#m8676a8a875\" y=\"93.621502\"/>\r\n     <use style=\"fill:#ff0000;stroke:#0000ff;\" x=\"132.446162\" xlink:href=\"#m8676a8a875\" y=\"135.979943\"/>\r\n     <use style=\"fill:#ff0000;stroke:#0000ff;\" x=\"137.622414\" xlink:href=\"#m8676a8a875\" y=\"107.740982\"/>\r\n     <use style=\"fill:#ff0000;stroke:#0000ff;\" x=\"142.798667\" xlink:href=\"#m8676a8a875\" y=\"164.218904\"/>\r\n     <use style=\"fill:#ff0000;stroke:#0000ff;\" x=\"147.974919\" xlink:href=\"#m8676a8a875\" y=\"51.26306\"/>\r\n     <use style=\"fill:#ff0000;stroke:#0000ff;\" x=\"153.151171\" xlink:href=\"#m8676a8a875\" y=\"248.935787\"/>\r\n     <use style=\"fill:#ff0000;stroke:#0000ff;\" x=\"158.327423\" xlink:href=\"#m8676a8a875\" y=\"93.621502\"/>\r\n     <use style=\"fill:#ff0000;stroke:#0000ff;\" x=\"163.503676\" xlink:href=\"#m8676a8a875\" y=\"135.979943\"/>\r\n     <use style=\"fill:#ff0000;stroke:#0000ff;\" x=\"168.679928\" xlink:href=\"#m8676a8a875\" y=\"37.14358\"/>\r\n     <use style=\"fill:#ff0000;stroke:#0000ff;\" x=\"173.85618\" xlink:href=\"#m8676a8a875\" y=\"178.338385\"/>\r\n     <use style=\"fill:#ff0000;stroke:#0000ff;\" x=\"179.032433\" xlink:href=\"#m8676a8a875\" y=\"164.218904\"/>\r\n     <use style=\"fill:#ff0000;stroke:#0000ff;\" x=\"184.208685\" xlink:href=\"#m8676a8a875\" y=\"164.218904\"/>\r\n     <use style=\"fill:#ff0000;stroke:#0000ff;\" x=\"189.384937\" xlink:href=\"#m8676a8a875\" y=\"164.218904\"/>\r\n     <use style=\"fill:#ff0000;stroke:#0000ff;\" x=\"194.56119\" xlink:href=\"#m8676a8a875\" y=\"164.218904\"/>\r\n     <use style=\"fill:#ff0000;stroke:#0000ff;\" x=\"199.737442\" xlink:href=\"#m8676a8a875\" y=\"220.696826\"/>\r\n     <use style=\"fill:#ff0000;stroke:#0000ff;\" x=\"204.913694\" xlink:href=\"#m8676a8a875\" y=\"220.696826\"/>\r\n     <use style=\"fill:#ff0000;stroke:#0000ff;\" x=\"210.089947\" xlink:href=\"#m8676a8a875\" y=\"220.696826\"/>\r\n     <use style=\"fill:#ff0000;stroke:#0000ff;\" x=\"215.266199\" xlink:href=\"#m8676a8a875\" y=\"248.935787\"/>\r\n     <use style=\"fill:#ff0000;stroke:#0000ff;\" x=\"220.442451\" xlink:href=\"#m8676a8a875\" y=\"248.935787\"/>\r\n     <use style=\"fill:#ff0000;stroke:#0000ff;\" x=\"225.618704\" xlink:href=\"#m8676a8a875\" y=\"248.935787\"/>\r\n     <use style=\"fill:#ff0000;stroke:#0000ff;\" x=\"230.794956\" xlink:href=\"#m8676a8a875\" y=\"248.935787\"/>\r\n     <use style=\"fill:#ff0000;stroke:#0000ff;\" x=\"235.971208\" xlink:href=\"#m8676a8a875\" y=\"248.935787\"/>\r\n     <use style=\"fill:#ff0000;stroke:#0000ff;\" x=\"241.147461\" xlink:href=\"#m8676a8a875\" y=\"248.935787\"/>\r\n     <use style=\"fill:#ff0000;stroke:#0000ff;\" x=\"246.323713\" xlink:href=\"#m8676a8a875\" y=\"248.935787\"/>\r\n     <use style=\"fill:#ff0000;stroke:#0000ff;\" x=\"251.499965\" xlink:href=\"#m8676a8a875\" y=\"248.935787\"/>\r\n     <use style=\"fill:#ff0000;stroke:#0000ff;\" x=\"256.676218\" xlink:href=\"#m8676a8a875\" y=\"333.65267\"/>\r\n     <use style=\"fill:#ff0000;stroke:#0000ff;\" x=\"261.85247\" xlink:href=\"#m8676a8a875\" y=\"234.816307\"/>\r\n     <use style=\"fill:#ff0000;stroke:#0000ff;\" x=\"267.028722\" xlink:href=\"#m8676a8a875\" y=\"277.174748\"/>\r\n     <use style=\"fill:#ff0000;stroke:#0000ff;\" x=\"272.204974\" xlink:href=\"#m8676a8a875\" y=\"277.174748\"/>\r\n     <use style=\"fill:#ff0000;stroke:#0000ff;\" x=\"277.381227\" xlink:href=\"#m8676a8a875\" y=\"277.174748\"/>\r\n     <use style=\"fill:#ff0000;stroke:#0000ff;\" x=\"282.557479\" xlink:href=\"#m8676a8a875\" y=\"291.294229\"/>\r\n     <use style=\"fill:#ff0000;stroke:#0000ff;\" x=\"287.733731\" xlink:href=\"#m8676a8a875\" y=\"291.294229\"/>\r\n     <use style=\"fill:#ff0000;stroke:#0000ff;\" x=\"292.909984\" xlink:href=\"#m8676a8a875\" y=\"291.294229\"/>\r\n     <use style=\"fill:#ff0000;stroke:#0000ff;\" x=\"298.086236\" xlink:href=\"#m8676a8a875\" y=\"333.65267\"/>\r\n     <use style=\"fill:#ff0000;stroke:#0000ff;\" x=\"303.262488\" xlink:href=\"#m8676a8a875\" y=\"319.53319\"/>\r\n     <use style=\"fill:#ff0000;stroke:#0000ff;\" x=\"308.438741\" xlink:href=\"#m8676a8a875\" y=\"291.294229\"/>\r\n     <use style=\"fill:#ff0000;stroke:#0000ff;\" x=\"313.614993\" xlink:href=\"#m8676a8a875\" y=\"291.294229\"/>\r\n     <use style=\"fill:#ff0000;stroke:#0000ff;\" x=\"318.791245\" xlink:href=\"#m8676a8a875\" y=\"220.696826\"/>\r\n     <use style=\"fill:#ff0000;stroke:#0000ff;\" x=\"323.967498\" xlink:href=\"#m8676a8a875\" y=\"333.65267\"/>\r\n     <use style=\"fill:#ff0000;stroke:#0000ff;\" x=\"329.14375\" xlink:href=\"#m8676a8a875\" y=\"319.53319\"/>\r\n     <use style=\"fill:#ff0000;stroke:#0000ff;\" x=\"334.320002\" xlink:href=\"#m8676a8a875\" y=\"291.294229\"/>\r\n     <use style=\"fill:#ff0000;stroke:#0000ff;\" x=\"339.496255\" xlink:href=\"#m8676a8a875\" y=\"206.577346\"/>\r\n     <use style=\"fill:#ff0000;stroke:#0000ff;\" x=\"344.672507\" xlink:href=\"#m8676a8a875\" y=\"291.294229\"/>\r\n     <use style=\"fill:#ff0000;stroke:#0000ff;\" x=\"349.848759\" xlink:href=\"#m8676a8a875\" y=\"206.577346\"/>\r\n     <use style=\"fill:#ff0000;stroke:#0000ff;\" x=\"355.025012\" xlink:href=\"#m8676a8a875\" y=\"206.577346\"/>\r\n     <use style=\"fill:#ff0000;stroke:#0000ff;\" x=\"360.201264\" xlink:href=\"#m8676a8a875\" y=\"206.577346\"/>\r\n     <use style=\"fill:#ff0000;stroke:#0000ff;\" x=\"365.377516\" xlink:href=\"#m8676a8a875\" y=\"206.577346\"/>\r\n     <use style=\"fill:#ff0000;stroke:#0000ff;\" x=\"370.553769\" xlink:href=\"#m8676a8a875\" y=\"150.099424\"/>\r\n     <use style=\"fill:#ff0000;stroke:#0000ff;\" x=\"375.730021\" xlink:href=\"#m8676a8a875\" y=\"206.577346\"/>\r\n     <use style=\"fill:#ff0000;stroke:#0000ff;\" x=\"380.906273\" xlink:href=\"#m8676a8a875\" y=\"164.218904\"/>\r\n     <use style=\"fill:#ff0000;stroke:#0000ff;\" x=\"386.082526\" xlink:href=\"#m8676a8a875\" y=\"135.979943\"/>\r\n     <use style=\"fill:#ff0000;stroke:#0000ff;\" x=\"391.258778\" xlink:href=\"#m8676a8a875\" y=\"135.979943\"/>\r\n     <use style=\"fill:#ff0000;stroke:#0000ff;\" x=\"396.43503\" xlink:href=\"#m8676a8a875\" y=\"248.935787\"/>\r\n     <use style=\"fill:#ff0000;stroke:#0000ff;\" x=\"401.611282\" xlink:href=\"#m8676a8a875\" y=\"220.696826\"/>\r\n     <use style=\"fill:#ff0000;stroke:#0000ff;\" x=\"406.787535\" xlink:href=\"#m8676a8a875\" y=\"277.174748\"/>\r\n     <use style=\"fill:#ff0000;stroke:#0000ff;\" x=\"411.963787\" xlink:href=\"#m8676a8a875\" y=\"248.935787\"/>\r\n     <use style=\"fill:#ff0000;stroke:#0000ff;\" x=\"417.140039\" xlink:href=\"#m8676a8a875\" y=\"248.935787\"/>\r\n     <use style=\"fill:#ff0000;stroke:#0000ff;\" x=\"422.316292\" xlink:href=\"#m8676a8a875\" y=\"206.577346\"/>\r\n     <use style=\"fill:#ff0000;stroke:#0000ff;\" x=\"427.492544\" xlink:href=\"#m8676a8a875\" y=\"220.696826\"/>\r\n     <use style=\"fill:#ff0000;stroke:#0000ff;\" x=\"432.668796\" xlink:href=\"#m8676a8a875\" y=\"248.935787\"/>\r\n     <use style=\"fill:#ff0000;stroke:#0000ff;\" x=\"437.845049\" xlink:href=\"#m8676a8a875\" y=\"248.935787\"/>\r\n     <use style=\"fill:#ff0000;stroke:#0000ff;\" x=\"443.021301\" xlink:href=\"#m8676a8a875\" y=\"263.055268\"/>\r\n     <use style=\"fill:#ff0000;stroke:#0000ff;\" x=\"448.197553\" xlink:href=\"#m8676a8a875\" y=\"234.816307\"/>\r\n     <use style=\"fill:#ff0000;stroke:#0000ff;\" x=\"453.373806\" xlink:href=\"#m8676a8a875\" y=\"234.816307\"/>\r\n     <use style=\"fill:#ff0000;stroke:#0000ff;\" x=\"458.550058\" xlink:href=\"#m8676a8a875\" y=\"206.577346\"/>\r\n     <use style=\"fill:#ff0000;stroke:#0000ff;\" x=\"463.72631\" xlink:href=\"#m8676a8a875\" y=\"206.577346\"/>\r\n     <use style=\"fill:#ff0000;stroke:#0000ff;\" x=\"468.902563\" xlink:href=\"#m8676a8a875\" y=\"291.294229\"/>\r\n     <use style=\"fill:#ff0000;stroke:#0000ff;\" x=\"474.078815\" xlink:href=\"#m8676a8a875\" y=\"192.457865\"/>\r\n     <use style=\"fill:#ff0000;stroke:#0000ff;\" x=\"479.255067\" xlink:href=\"#m8676a8a875\" y=\"192.457865\"/>\r\n     <use style=\"fill:#ff0000;stroke:#0000ff;\" x=\"484.43132\" xlink:href=\"#m8676a8a875\" y=\"178.338385\"/>\r\n     <use style=\"fill:#ff0000;stroke:#0000ff;\" x=\"489.607572\" xlink:href=\"#m8676a8a875\" y=\"206.577346\"/>\r\n     <use style=\"fill:#ff0000;stroke:#0000ff;\" x=\"494.783824\" xlink:href=\"#m8676a8a875\" y=\"206.577346\"/>\r\n     <use style=\"fill:#ff0000;stroke:#0000ff;\" x=\"499.960077\" xlink:href=\"#m8676a8a875\" y=\"263.055268\"/>\r\n     <use style=\"fill:#ff0000;stroke:#0000ff;\" x=\"505.136329\" xlink:href=\"#m8676a8a875\" y=\"263.055268\"/>\r\n     <use style=\"fill:#ff0000;stroke:#0000ff;\" x=\"510.312581\" xlink:href=\"#m8676a8a875\" y=\"277.174748\"/>\r\n     <use style=\"fill:#ff0000;stroke:#0000ff;\" x=\"515.488833\" xlink:href=\"#m8676a8a875\" y=\"277.174748\"/>\r\n     <use style=\"fill:#ff0000;stroke:#0000ff;\" x=\"520.665086\" xlink:href=\"#m8676a8a875\" y=\"234.816307\"/>\r\n     <use style=\"fill:#ff0000;stroke:#0000ff;\" x=\"525.841338\" xlink:href=\"#m8676a8a875\" y=\"234.816307\"/>\r\n     <use style=\"fill:#ff0000;stroke:#0000ff;\" x=\"531.01759\" xlink:href=\"#m8676a8a875\" y=\"291.294229\"/>\r\n     <use style=\"fill:#ff0000;stroke:#0000ff;\" x=\"536.193843\" xlink:href=\"#m8676a8a875\" y=\"263.055268\"/>\r\n     <use style=\"fill:#ff0000;stroke:#0000ff;\" x=\"541.370095\" xlink:href=\"#m8676a8a875\" y=\"248.935787\"/>\r\n     <use style=\"fill:#ff0000;stroke:#0000ff;\" x=\"546.546347\" xlink:href=\"#m8676a8a875\" y=\"291.294229\"/>\r\n     <use style=\"fill:#ff0000;stroke:#0000ff;\" x=\"551.7226\" xlink:href=\"#m8676a8a875\" y=\"248.935787\"/>\r\n     <use style=\"fill:#ff0000;stroke:#0000ff;\" x=\"556.898852\" xlink:href=\"#m8676a8a875\" y=\"277.174748\"/>\r\n     <use style=\"fill:#ff0000;stroke:#0000ff;\" x=\"562.075104\" xlink:href=\"#m8676a8a875\" y=\"277.174748\"/>\r\n     <use style=\"fill:#ff0000;stroke:#0000ff;\" x=\"567.251357\" xlink:href=\"#m8676a8a875\" y=\"206.577346\"/>\r\n     <use style=\"fill:#ff0000;stroke:#0000ff;\" x=\"572.427609\" xlink:href=\"#m8676a8a875\" y=\"263.055268\"/>\r\n     <use style=\"fill:#ff0000;stroke:#0000ff;\" x=\"577.603861\" xlink:href=\"#m8676a8a875\" y=\"206.577346\"/>\r\n     <use style=\"fill:#ff0000;stroke:#0000ff;\" x=\"582.780114\" xlink:href=\"#m8676a8a875\" y=\"220.696826\"/>\r\n    </g>\r\n   </g>\r\n   <g id=\"patch_3\">\r\n    <path d=\"M 50.14375 348.478125 \r\nL 50.14375 22.318125 \r\n\" style=\"fill:none;stroke:#000000;stroke-linecap:square;stroke-linejoin:miter;stroke-width:0.8;\"/>\r\n   </g>\r\n   <g id=\"patch_4\">\r\n    <path d=\"M 608.14375 348.478125 \r\nL 608.14375 22.318125 \r\n\" style=\"fill:none;stroke:#000000;stroke-linecap:square;stroke-linejoin:miter;stroke-width:0.8;\"/>\r\n   </g>\r\n   <g id=\"patch_5\">\r\n    <path d=\"M 50.14375 348.478125 \r\nL 608.14375 348.478125 \r\n\" style=\"fill:none;stroke:#000000;stroke-linecap:square;stroke-linejoin:miter;stroke-width:0.8;\"/>\r\n   </g>\r\n   <g id=\"patch_6\">\r\n    <path d=\"M 50.14375 22.318125 \r\nL 608.14375 22.318125 \r\n\" style=\"fill:none;stroke:#000000;stroke-linecap:square;stroke-linejoin:miter;stroke-width:0.8;\"/>\r\n   </g>\r\n   <g id=\"text_15\">\r\n    <!-- ERROR Rate VS K Values -->\r\n    <g transform=\"translate(255.288438 16.318125)scale(0.12 -0.12)\">\r\n     <defs>\r\n      <path d=\"M 44.390625 34.1875 \r\nQ 47.5625 33.109375 50.5625 29.59375 \r\nQ 53.5625 26.078125 56.59375 19.921875 \r\nL 66.609375 0 \r\nL 56 0 \r\nL 46.6875 18.703125 \r\nQ 43.0625 26.03125 39.671875 28.421875 \r\nQ 36.28125 30.8125 30.421875 30.8125 \r\nL 19.671875 30.8125 \r\nL 19.671875 0 \r\nL 9.8125 0 \r\nL 9.8125 72.90625 \r\nL 32.078125 72.90625 \r\nQ 44.578125 72.90625 50.734375 67.671875 \r\nQ 56.890625 62.453125 56.890625 51.90625 \r\nQ 56.890625 45.015625 53.6875 40.46875 \r\nQ 50.484375 35.9375 44.390625 34.1875 \r\nz\r\nM 19.671875 64.796875 \r\nL 19.671875 38.921875 \r\nL 32.078125 38.921875 \r\nQ 39.203125 38.921875 42.84375 42.21875 \r\nQ 46.484375 45.515625 46.484375 51.90625 \r\nQ 46.484375 58.296875 42.84375 61.546875 \r\nQ 39.203125 64.796875 32.078125 64.796875 \r\nz\r\n\" id=\"DejaVuSans-82\"/>\r\n      <path d=\"M 39.40625 66.21875 \r\nQ 28.65625 66.21875 22.328125 58.203125 \r\nQ 16.015625 50.203125 16.015625 36.375 \r\nQ 16.015625 22.609375 22.328125 14.59375 \r\nQ 28.65625 6.59375 39.40625 6.59375 \r\nQ 50.140625 6.59375 56.421875 14.59375 \r\nQ 62.703125 22.609375 62.703125 36.375 \r\nQ 62.703125 50.203125 56.421875 58.203125 \r\nQ 50.140625 66.21875 39.40625 66.21875 \r\nz\r\nM 39.40625 74.21875 \r\nQ 54.734375 74.21875 63.90625 63.9375 \r\nQ 73.09375 53.65625 73.09375 36.375 \r\nQ 73.09375 19.140625 63.90625 8.859375 \r\nQ 54.734375 -1.421875 39.40625 -1.421875 \r\nQ 24.03125 -1.421875 14.8125 8.828125 \r\nQ 5.609375 19.09375 5.609375 36.375 \r\nQ 5.609375 53.65625 14.8125 63.9375 \r\nQ 24.03125 74.21875 39.40625 74.21875 \r\nz\r\n\" id=\"DejaVuSans-79\"/>\r\n      <path d=\"M 28.609375 0 \r\nL 0.78125 72.90625 \r\nL 11.078125 72.90625 \r\nL 34.1875 11.53125 \r\nL 57.328125 72.90625 \r\nL 67.578125 72.90625 \r\nL 39.796875 0 \r\nz\r\n\" id=\"DejaVuSans-86\"/>\r\n      <path d=\"M 53.515625 70.515625 \r\nL 53.515625 60.890625 \r\nQ 47.90625 63.578125 42.921875 64.890625 \r\nQ 37.9375 66.21875 33.296875 66.21875 \r\nQ 25.25 66.21875 20.875 63.09375 \r\nQ 16.5 59.96875 16.5 54.203125 \r\nQ 16.5 49.359375 19.40625 46.890625 \r\nQ 22.3125 44.4375 30.421875 42.921875 \r\nL 36.375 41.703125 \r\nQ 47.40625 39.59375 52.65625 34.296875 \r\nQ 57.90625 29 57.90625 20.125 \r\nQ 57.90625 9.515625 50.796875 4.046875 \r\nQ 43.703125 -1.421875 29.984375 -1.421875 \r\nQ 24.8125 -1.421875 18.96875 -0.25 \r\nQ 13.140625 0.921875 6.890625 3.21875 \r\nL 6.890625 13.375 \r\nQ 12.890625 10.015625 18.65625 8.296875 \r\nQ 24.421875 6.59375 29.984375 6.59375 \r\nQ 38.421875 6.59375 43.015625 9.90625 \r\nQ 47.609375 13.234375 47.609375 19.390625 \r\nQ 47.609375 24.75 44.3125 27.78125 \r\nQ 41.015625 30.8125 33.5 32.328125 \r\nL 27.484375 33.5 \r\nQ 16.453125 35.6875 11.515625 40.375 \r\nQ 6.59375 45.0625 6.59375 53.421875 \r\nQ 6.59375 63.09375 13.40625 68.65625 \r\nQ 20.21875 74.21875 32.171875 74.21875 \r\nQ 37.3125 74.21875 42.625 73.28125 \r\nQ 47.953125 72.359375 53.515625 70.515625 \r\nz\r\n\" id=\"DejaVuSans-83\"/>\r\n      <path d=\"M 9.421875 75.984375 \r\nL 18.40625 75.984375 \r\nL 18.40625 0 \r\nL 9.421875 0 \r\nz\r\n\" id=\"DejaVuSans-108\"/>\r\n      <path d=\"M 8.5 21.578125 \r\nL 8.5 54.6875 \r\nL 17.484375 54.6875 \r\nL 17.484375 21.921875 \r\nQ 17.484375 14.15625 20.5 10.265625 \r\nQ 23.53125 6.390625 29.59375 6.390625 \r\nQ 36.859375 6.390625 41.078125 11.03125 \r\nQ 45.3125 15.671875 45.3125 23.6875 \r\nL 45.3125 54.6875 \r\nL 54.296875 54.6875 \r\nL 54.296875 0 \r\nL 45.3125 0 \r\nL 45.3125 8.40625 \r\nQ 42.046875 3.421875 37.71875 1 \r\nQ 33.40625 -1.421875 27.6875 -1.421875 \r\nQ 18.265625 -1.421875 13.375 4.4375 \r\nQ 8.5 10.296875 8.5 21.578125 \r\nz\r\nM 31.109375 56 \r\nz\r\n\" id=\"DejaVuSans-117\"/>\r\n      <path d=\"M 44.28125 53.078125 \r\nL 44.28125 44.578125 \r\nQ 40.484375 46.53125 36.375 47.5 \r\nQ 32.28125 48.484375 27.875 48.484375 \r\nQ 21.1875 48.484375 17.84375 46.4375 \r\nQ 14.5 44.390625 14.5 40.28125 \r\nQ 14.5 37.15625 16.890625 35.375 \r\nQ 19.28125 33.59375 26.515625 31.984375 \r\nL 29.59375 31.296875 \r\nQ 39.15625 29.25 43.1875 25.515625 \r\nQ 47.21875 21.78125 47.21875 15.09375 \r\nQ 47.21875 7.46875 41.1875 3.015625 \r\nQ 35.15625 -1.421875 24.609375 -1.421875 \r\nQ 20.21875 -1.421875 15.453125 -0.5625 \r\nQ 10.6875 0.296875 5.421875 2 \r\nL 5.421875 11.28125 \r\nQ 10.40625 8.6875 15.234375 7.390625 \r\nQ 20.0625 6.109375 24.8125 6.109375 \r\nQ 31.15625 6.109375 34.5625 8.28125 \r\nQ 37.984375 10.453125 37.984375 14.40625 \r\nQ 37.984375 18.0625 35.515625 20.015625 \r\nQ 33.0625 21.96875 24.703125 23.78125 \r\nL 21.578125 24.515625 \r\nQ 13.234375 26.265625 9.515625 29.90625 \r\nQ 5.8125 33.546875 5.8125 39.890625 \r\nQ 5.8125 47.609375 11.28125 51.796875 \r\nQ 16.75 56 26.8125 56 \r\nQ 31.78125 56 36.171875 55.265625 \r\nQ 40.578125 54.546875 44.28125 53.078125 \r\nz\r\n\" id=\"DejaVuSans-115\"/>\r\n     </defs>\r\n     <use xlink:href=\"#DejaVuSans-69\"/>\r\n     <use x=\"63.183594\" xlink:href=\"#DejaVuSans-82\"/>\r\n     <use x=\"132.666016\" xlink:href=\"#DejaVuSans-82\"/>\r\n     <use x=\"202.148438\" xlink:href=\"#DejaVuSans-79\"/>\r\n     <use x=\"280.859375\" xlink:href=\"#DejaVuSans-82\"/>\r\n     <use x=\"350.341797\" xlink:href=\"#DejaVuSans-32\"/>\r\n     <use x=\"382.128906\" xlink:href=\"#DejaVuSans-82\"/>\r\n     <use x=\"449.361328\" xlink:href=\"#DejaVuSans-97\"/>\r\n     <use x=\"510.640625\" xlink:href=\"#DejaVuSans-116\"/>\r\n     <use x=\"549.849609\" xlink:href=\"#DejaVuSans-101\"/>\r\n     <use x=\"611.373047\" xlink:href=\"#DejaVuSans-32\"/>\r\n     <use x=\"643.160156\" xlink:href=\"#DejaVuSans-86\"/>\r\n     <use x=\"711.568359\" xlink:href=\"#DejaVuSans-83\"/>\r\n     <use x=\"775.044922\" xlink:href=\"#DejaVuSans-32\"/>\r\n     <use x=\"806.832031\" xlink:href=\"#DejaVuSans-75\"/>\r\n     <use x=\"872.408203\" xlink:href=\"#DejaVuSans-32\"/>\r\n     <use x=\"904.195312\" xlink:href=\"#DejaVuSans-86\"/>\r\n     <use x=\"964.853516\" xlink:href=\"#DejaVuSans-97\"/>\r\n     <use x=\"1026.132812\" xlink:href=\"#DejaVuSans-108\"/>\r\n     <use x=\"1053.916016\" xlink:href=\"#DejaVuSans-117\"/>\r\n     <use x=\"1117.294922\" xlink:href=\"#DejaVuSans-101\"/>\r\n     <use x=\"1178.818359\" xlink:href=\"#DejaVuSans-115\"/>\r\n    </g>\r\n   </g>\r\n  </g>\r\n </g>\r\n <defs>\r\n  <clipPath id=\"pd98c33f2b7\">\r\n   <rect height=\"326.16\" width=\"558\" x=\"50.14375\" y=\"22.318125\"/>\r\n  </clipPath>\r\n </defs>\r\n</svg>\r\n",
      "image/png": "[encoded data removed]"
     },
     "metadata": {
      "needs_background": "light"
     }
    }
   ],
   "source": [
    "plt.figure(figsize=(10,6))\n",
    "plt.plot(range(1,100),error_matrix,color='blue',linestyle='dashed',marker='o',\n",
    "        markerfacecolor='red',markersize=10)\n",
    "plt.title('ERROR Rate VS K Values')\n",
    "plt.xlabel('K')\n",
    "plt.ylabel('Error rate')"
   ]
  },
  {
   "source": [
    "LEAST ERROR LIES BETWEEN 1 AND 5. 2 IS THE BEST NUMBER OF NEIGHBOURS WE SHOULD HAVE FOR BEST RESULTS"
   ],
   "cell_type": "markdown",
   "metadata": {}
  },
  {
   "source": [
    "## Q2"
   ],
   "cell_type": "markdown",
   "metadata": {}
  },
  {
   "cell_type": "code",
   "execution_count": 277,
   "metadata": {},
   "outputs": [],
   "source": [
    "import pandas as pd"
   ]
  },
  {
   "cell_type": "code",
   "execution_count": 278,
   "metadata": {},
   "outputs": [
    {
     "output_type": "execute_result",
     "data": {
      "text/plain": [
       "        Price     Open     High      Low Change %   Year  Month\n",
       "0     150.820  146.950  150.885  146.950     0.04   2019      6\n",
       "1     150.755  148.975  151.205  148.825    -0.09   2019      6\n",
       "2     150.885  148.805  151.635  148.805     1.74   2019      6\n",
       "3     148.310  146.920  148.470  146.920     0.08   2019      6\n",
       "4     148.185  147.535  148.585  146.885     0.76   2019      6\n",
       "...       ...      ...      ...      ...      ...    ...    ...\n",
       "5771   51.745   51.740   51.745   51.740     0.09   1999      6\n",
       "5772   51.700   51.650   51.700   51.650    -0.06   1999      6\n",
       "5773   51.730   51.710   51.730   51.710     0.04   1999      6\n",
       "5774   51.710   51.670   51.710   51.670     0.12   1999      6\n",
       "5775   51.650   51.600   51.650   51.600    -0.10   1999      6\n",
       "\n",
       "[5776 rows x 7 columns]"
      ],
      "text/html": "<div>\n<style scoped>\n    .dataframe tbody tr th:only-of-type {\n        vertical-align: middle;\n    }\n\n    .dataframe tbody tr th {\n        vertical-align: top;\n    }\n\n    .dataframe thead th {\n        text-align: right;\n    }\n</style>\n<table border=\"1\" class=\"dataframe\">\n  <thead>\n    <tr style=\"text-align: right;\">\n      <th></th>\n      <th>Price</th>\n      <th>Open</th>\n      <th>High</th>\n      <th>Low</th>\n      <th>Change %</th>\n      <th>Year</th>\n      <th>Month</th>\n    </tr>\n  </thead>\n  <tbody>\n    <tr>\n      <th>0</th>\n      <td>150.820</td>\n      <td>146.950</td>\n      <td>150.885</td>\n      <td>146.950</td>\n      <td>0.04</td>\n      <td>2019</td>\n      <td>6</td>\n    </tr>\n    <tr>\n      <th>1</th>\n      <td>150.755</td>\n      <td>148.975</td>\n      <td>151.205</td>\n      <td>148.825</td>\n      <td>-0.09</td>\n      <td>2019</td>\n      <td>6</td>\n    </tr>\n    <tr>\n      <th>2</th>\n      <td>150.885</td>\n      <td>148.805</td>\n      <td>151.635</td>\n      <td>148.805</td>\n      <td>1.74</td>\n      <td>2019</td>\n      <td>6</td>\n    </tr>\n    <tr>\n      <th>3</th>\n      <td>148.310</td>\n      <td>146.920</td>\n      <td>148.470</td>\n      <td>146.920</td>\n      <td>0.08</td>\n      <td>2019</td>\n      <td>6</td>\n    </tr>\n    <tr>\n      <th>4</th>\n      <td>148.185</td>\n      <td>147.535</td>\n      <td>148.585</td>\n      <td>146.885</td>\n      <td>0.76</td>\n      <td>2019</td>\n      <td>6</td>\n    </tr>\n    <tr>\n      <th>...</th>\n      <td>...</td>\n      <td>...</td>\n      <td>...</td>\n      <td>...</td>\n      <td>...</td>\n      <td>...</td>\n      <td>...</td>\n    </tr>\n    <tr>\n      <th>5771</th>\n      <td>51.745</td>\n      <td>51.740</td>\n      <td>51.745</td>\n      <td>51.740</td>\n      <td>0.09</td>\n      <td>1999</td>\n      <td>6</td>\n    </tr>\n    <tr>\n      <th>5772</th>\n      <td>51.700</td>\n      <td>51.650</td>\n      <td>51.700</td>\n      <td>51.650</td>\n      <td>-0.06</td>\n      <td>1999</td>\n      <td>6</td>\n    </tr>\n    <tr>\n      <th>5773</th>\n      <td>51.730</td>\n      <td>51.710</td>\n      <td>51.730</td>\n      <td>51.710</td>\n      <td>0.04</td>\n      <td>1999</td>\n      <td>6</td>\n    </tr>\n    <tr>\n      <th>5774</th>\n      <td>51.710</td>\n      <td>51.670</td>\n      <td>51.710</td>\n      <td>51.670</td>\n      <td>0.12</td>\n      <td>1999</td>\n      <td>6</td>\n    </tr>\n    <tr>\n      <th>5775</th>\n      <td>51.650</td>\n      <td>51.600</td>\n      <td>51.650</td>\n      <td>51.600</td>\n      <td>-0.10</td>\n      <td>1999</td>\n      <td>6</td>\n    </tr>\n  </tbody>\n</table>\n<p>5776 rows × 7 columns</p>\n</div>"
     },
     "metadata": {},
     "execution_count": 278
    }
   ],
   "source": [
    "df = pd.read_csv('currency.csv')\n",
    "df[[\"Day\", \"Year\"]] = df[\"Date\"].str.split(\",\", expand=True)\n",
    "df[[\"Month\", \"Day\"]] = df[\"Day\"].str.split(\" \", expand=True)\n",
    "df = df.drop(['Date'], axis=1)\n",
    "df = df.drop(['Day'], axis=1)\n",
    "\n",
    "df['Month'] = df['Month'].map({\"Jan\": 1, \"Feb\": 2, \"Mar\": 3, \"Apr\": 4, \"May\": 5, \"Jun\": 6, \"Jul\": 7, \"Aug\": 8, \"Sep\": 9, \"Oct\": 10, \"Nov\": 11, \"Dec\": 12})\n",
    "\n",
    "df[\"Change %\"] = df[\"Change %\"].str.replace('%', '')\n",
    "\n",
    "df\n"
   ]
  },
  {
   "cell_type": "code",
   "execution_count": 279,
   "metadata": {},
   "outputs": [],
   "source": [
    "x=df.drop(['High'],axis=1)\n",
    "y=df['High']\n",
    "X_train, X_test, Y_train, Y_test = train_test_split(x, y, train_size=0.8, test_size=0.2, random_state=1)"
   ]
  },
  {
   "source": [
    "## KNN\n",
    "\n",
    "knn=KNeighborsRegressor(n_neighbors=10)\n",
    "knn.fit(X_train,Y_train)\n",
    "Y_pred=knn.predict(X_test)\n",
    "# Mean Absolute Error\n",
    "mean_absolute_error(Y_test,Y_pred)"
   ],
   "cell_type": "code",
   "metadata": {},
   "execution_count": 280,
   "outputs": [
    {
     "output_type": "execute_result",
     "data": {
      "text/plain": [
       "0.1266064013840833"
      ]
     },
     "metadata": {},
     "execution_count": 280
    }
   ]
  },
  {
   "cell_type": "code",
   "execution_count": 281,
   "metadata": {},
   "outputs": [
    {
     "output_type": "execute_result",
     "data": {
      "text/plain": [
       "0.09498197808535212"
      ]
     },
     "metadata": {},
     "execution_count": 281
    }
   ],
   "source": [
    "## Decision Tree\n",
    "\n",
    "dtr=DecisionTreeRegressor()\n",
    "dtr.fit(X_train,Y_train)\n",
    "Y_pred=dtr.predict(X_test)\n",
    "# Mean Absolute Error\n",
    "mean_absolute_error(Y_test,Y_pred)"
   ]
  },
  {
   "source": [
    "Decision tree is more accurate as it has less mean error"
   ],
   "cell_type": "markdown",
   "metadata": {}
  }
 ]
}