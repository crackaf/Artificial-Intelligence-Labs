{
 "metadata": {
  "language_info": {
   "codemirror_mode": {
    "name": "ipython",
    "version": 3
   },
   "file_extension": ".py",
   "mimetype": "text/x-python",
   "name": "python",
   "nbconvert_exporter": "python",
   "pygments_lexer": "ipython3",
   "version": "3.7.8-final"
  },
  "orig_nbformat": 2,
  "kernelspec": {
   "name": "python3",
   "display_name": "Python 3.7.8 64-bit",
   "metadata": {
    "interpreter": {
     "hash": "57baa5815c940fdaff4d14510622de9616cae602444507ba5d0b6727c008cbd6"
    }
   }
  }
 },
 "nbformat": 4,
 "nbformat_minor": 2,
 "cells": [
  {
   "cell_type": "code",
   "execution_count": 2,
   "metadata": {},
   "outputs": [
    {
     "output_type": "stream",
     "name": "stdout",
     "text": [
      "\nWelcome to Python3!\n____\n/ . .\\\n\\ ---<\n\\ /\n__________/ /\n-=:___________/\n<3, Python\n\nWelcome to Python3!\n____\n/ . .\\\n\\ ---<\n\\ /\n__________/ /\n-=:___________/\n<3, Python\n\nWelcome to Python3!\n____\n/ . .\\\n\\ ---<\n\\ /\n__________/ /\n-=:___________/\n<3, Python\n\nWelcome to Python3!\n____\n/ . .\\\n\\ ---<\n\\ /\n__________/ /\n-=:___________/\n<3, Python\n\nWelcome to Python3!\n____\n/ . .\\\n\\ ---<\n\\ /\n__________/ /\n-=:___________/\n<3, Python\n\n"
     ]
    }
   ],
   "source": [
    "how_many_snakes = 5\n",
    "snake_string = \"\"\"\n",
    "Welcome to Python3!\n",
    "____\n",
    "/ . .\\\\\n",
    "\\ ---<\n",
    "\\ /\n",
    "__________/ /\n",
    "-=:___________/\n",
    "<3, Python\n",
    "\"\"\"\n",
    "print(snake_string * how_many_snakes)"
   ]
  },
  {
   "cell_type": "code",
   "execution_count": null,
   "metadata": {},
   "outputs": [],
   "source": [
    "#A 2.1"
   ]
  },
  {
   "cell_type": "code",
   "execution_count": 3,
   "metadata": {},
   "outputs": [
    {
     "output_type": "stream",
     "name": "stdout",
     "text": [
      "Stay Home Stay Safe  Malik\n"
     ]
    }
   ],
   "source": [
    "Name = input(\"Enter your name\")\n",
    "Greatings = 'Stay Home Stay Safe ' +  ' ' + Name \n",
    "print(Greatings)"
   ]
  },
  {
   "cell_type": "code",
   "execution_count": 4,
   "metadata": {},
   "outputs": [
    {
     "output_type": "stream",
     "name": "stdout",
     "text": [
      "36.666666666666664\n"
     ]
    }
   ],
   "source": [
    "T_F_str = input('Enter Fahrenheit Temperature:')\n",
    "T_F = float(T_F_str)\n",
    "T_C = (T_F - 32.0) * 5.0 / 9.0\n",
    "print (T_C) "
   ]
  },
  {
   "cell_type": "code",
   "execution_count": 7,
   "metadata": {},
   "outputs": [
    {
     "output_type": "stream",
     "name": "stdout",
     "text": [
      "Only numeric input please\n"
     ]
    }
   ],
   "source": [
    "try: \n",
    "    T_F_str = input('Enter Fahrenheit Temperature:')\n",
    "    T_F = float(T_F_str)\n",
    "    T_C = (T_F - 32.0) * 5.0 / 9_0\n",
    "    print (T_C) \n",
    "except: \n",
    "    print ('Only numeric input please') "
   ]
  },
  {
   "cell_type": "code",
   "execution_count": 8,
   "metadata": {},
   "outputs": [
    {
     "output_type": "stream",
     "name": "stdout",
     "text": [
      "3.141592653589793\n1.2246467991473532e-16\n"
     ]
    }
   ],
   "source": [
    "import math \n",
    "degrees = float(input('Enter Angle in Degrees:'))\n",
    "radians = degrees / 360.0 * 2 * math.pi\n",
    "print(radians)\n",
    "print(math.sin(radians)) "
   ]
  },
  {
   "cell_type": "code",
   "execution_count": null,
   "metadata": {},
   "outputs": [],
   "source": [
    "#A 3.1"
   ]
  },
  {
   "cell_type": "code",
   "execution_count": 9,
   "metadata": {},
   "outputs": [
    {
     "output_type": "stream",
     "name": "stdout",
     "text": [
      "0\n1\n2\n3\n4\n"
     ]
    }
   ],
   "source": [
    "for Counter in range(5):\n",
    "    print(Counter)"
   ]
  },
  {
   "cell_type": "code",
   "execution_count": 10,
   "metadata": {},
   "outputs": [
    {
     "output_type": "stream",
     "name": "stdout",
     "text": [
      "5\n6\n7\n8\n9\n"
     ]
    }
   ],
   "source": [
    "for Counter in range(5,10):\n",
    "    print(Counter)"
   ]
  },
  {
   "cell_type": "code",
   "execution_count": 11,
   "metadata": {},
   "outputs": [
    {
     "output_type": "stream",
     "name": "stdout",
     "text": [
      "5\n8\n11\n14\n17\n"
     ]
    }
   ],
   "source": [
    "for Counter in range(5,20,3):\n",
    "    print(Counter)"
   ]
  },
  {
   "cell_type": "code",
   "execution_count": 12,
   "metadata": {},
   "outputs": [
    {
     "output_type": "stream",
     "name": "stdout",
     "text": [
      "10\n8\n6\n4\n2\n"
     ]
    }
   ],
   "source": [
    "for Counter in range(10,0,-2):\n",
    "    print(Counter)"
   ]
  },
  {
   "cell_type": "code",
   "execution_count": 14,
   "metadata": {},
   "outputs": [
    {
     "output_type": "stream",
     "name": "stdout",
     "text": [
      "7\n5\n3\n1\nGot it?\n"
     ]
    }
   ],
   "source": [
    "counter=7\n",
    "while counter >=0:\n",
    "    print(counter)\n",
    "    counter-=2\n",
    "print('Got it?')"
   ]
  },
  {
   "cell_type": "code",
   "execution_count": 17,
   "metadata": {},
   "outputs": [],
   "source": [
    "def IP(N):\n",
    "    if (N < 2) or (N > 2 and N % 2 == 0):\n",
    "        return False \n",
    "    for D in range(3,N - 1):\n",
    "        if N % D == 0: \n",
    "            return False \n",
    "    return True "
   ]
  },
  {
   "cell_type": "code",
   "execution_count": 18,
   "metadata": {},
   "outputs": [
    {
     "output_type": "stream",
     "name": "stdout",
     "text": [
      "2\n3\n5\n7\n11\n13\n17\n19\n23\n29\n31\n37\n41\n43\n47\n"
     ]
    }
   ],
   "source": [
    "for n in range(2, 50):\n",
    "    if IP(n) == True:\n",
    "        print(n)"
   ]
  },
  {
   "cell_type": "code",
   "execution_count": null,
   "metadata": {},
   "outputs": [],
   "source": [
    "#P 1.1"
   ]
  },
  {
   "cell_type": "code",
   "execution_count": 19,
   "metadata": {},
   "outputs": [],
   "source": [
    "#Exercise 1\n",
    "def checkPalindrome(num):\n",
    "    return str(num)==str(num)[::-1]"
   ]
  },
  {
   "cell_type": "code",
   "execution_count": 21,
   "metadata": {},
   "outputs": [
    {
     "output_type": "stream",
     "name": "stdout",
     "text": [
      "True\nFalse\n"
     ]
    }
   ],
   "source": [
    "print(checkPalindrome(121))\n",
    "print(checkPalindrome(1211))"
   ]
  },
  {
   "cell_type": "code",
   "execution_count": 34,
   "metadata": {},
   "outputs": [
    {
     "output_type": "stream",
     "name": "stdout",
     "text": [
      "[5, 4, 3, 2, 1]\n[4, 3, 2, 1]\n[3, 2, 1]\n[2, 1]\n[1]\n5 4 3 2 1 \n4 3 2 1 \n3 2 1 \n2 1 \n1 \n"
     ]
    }
   ],
   "source": [
    "#Exercise 2\n",
    "for i in range(5,0,-1):\n",
    "    print(list(range(i,0,-1)))\n",
    "#OR\n",
    "for i in range(5,0,-1):\n",
    "    for j in range(i,0,-1):\n",
    "        print(j,end=' ')\n",
    "    print()"
   ]
  },
  {
   "cell_type": "code",
   "execution_count": 86,
   "metadata": {},
   "outputs": [],
   "source": [
    "#Exercise 3\n",
    "def factorial(num):\n",
    "    if num==0: return 1\n",
    "    fac=1\n",
    "    for i in range(abs(num),1,-1):\n",
    "        fac*=i\n",
    "    return fac*(abs(num)/num)"
   ]
  },
  {
   "cell_type": "code",
   "execution_count": 87,
   "metadata": {},
   "outputs": [
    {
     "output_type": "stream",
     "name": "stdout",
     "text": [
      "120.0\n-120.0\n"
     ]
    }
   ],
   "source": [
    "print(factorial(5))\n",
    "print(factorial(-5))"
   ]
  },
  {
   "cell_type": "code",
   "execution_count": null,
   "metadata": {},
   "outputs": [],
   "source": [
    "#P 1.2"
   ]
  },
  {
   "cell_type": "code",
   "execution_count": 93,
   "metadata": {},
   "outputs": [
    {
     "output_type": "stream",
     "name": "stdout",
     "text": [
      "0 1 2 3 4 5 6 7 8 9 10 "
     ]
    }
   ],
   "source": [
    "#Exercise 1\n",
    "i=0\n",
    "while i<=10:\n",
    "    print(i,end=' ')\n",
    "    i+=1"
   ]
  },
  {
   "cell_type": "code",
   "execution_count": 94,
   "metadata": {},
   "outputs": [
    {
     "output_type": "stream",
     "name": "stdout",
     "text": [
      "15 55 75 150 "
     ]
    }
   ],
   "source": [
    "#Exercise 2\n",
    "list1 = [12, 15, 32, 42, 55, 75, 122, 132, 150, 180, 200]\n",
    "divider=5\n",
    "\n",
    "for x in list1:\n",
    "    if x%divider==0: print(x,end=' ')\n",
    "    if x>=150: break"
   ]
  },
  {
   "cell_type": "code",
   "execution_count": 99,
   "metadata": {},
   "outputs": [
    {
     "output_type": "stream",
     "name": "stdout",
     "text": [
      "[50, 40, 30, 20, 10]\n"
     ]
    }
   ],
   "source": [
    "#Exercise 3\n",
    "list1 = [10, 20, 30, 40, 50]\n",
    "reverse=[]\n",
    "\n",
    "#reverse = list[::-1]\n",
    "#OR\n",
    "for i in range(len(list1)-1,-1,-1):\n",
    "    reverse.append(list1[i])\n",
    "print(reverse)"
   ]
  },
  {
   "cell_type": "code",
   "execution_count": 117,
   "metadata": {},
   "outputs": [
    {
     "output_type": "stream",
     "name": "stdout",
     "text": [
      "29\n31\n37\n41\n43\n47\n"
     ]
    }
   ],
   "source": [
    "#Exercise 4\n",
    "start = 25\n",
    "end = 50\n",
    "\n",
    "isPrime = lambda num: all( num%i != 0 for i in range(2, int(num**.5)+1))\n",
    "#OR\n",
    "# def isPrime(num):\n",
    "#     if num > 1:\n",
    "#         for i in range(2, int(num**.5)+1):\n",
    "#             if (num % i) == 0: return False\n",
    "#         return True\n",
    "#     return False\n",
    "\n",
    "for i in range(start,end):\n",
    "    if isPrime(i): print(i)\n"
   ]
  },
  {
   "cell_type": "code",
   "execution_count": 119,
   "metadata": {},
   "outputs": [
    {
     "output_type": "stream",
     "name": "stdout",
     "text": [
      "51321\n"
     ]
    }
   ],
   "source": [
    "#Exercise 5\n",
    "numReverse = lambda num:int(str(num)[::-1])\n",
    "\n",
    "print(numReverse(12315))\n",
    "print(numReverse(53469))"
   ]
  },
  {
   "cell_type": "code",
   "execution_count": 121,
   "metadata": {},
   "outputs": [
    {
     "output_type": "stream",
     "name": "stdout",
     "text": [
      "20\n40\n60\n80\n100\n"
     ]
    }
   ],
   "source": [
    "#Exercise 6\n",
    "my_list = [10, 20, 30, 40, 50, 60, 70, 80, 90, 100]\n",
    "\n",
    "for i in range(len(my_list)):\n",
    "    if (i+1)%2==0: print(my_list[i])"
   ]
  },
  {
   "cell_type": "code",
   "execution_count": null,
   "metadata": {},
   "outputs": [],
   "source": []
  }
 ]
}