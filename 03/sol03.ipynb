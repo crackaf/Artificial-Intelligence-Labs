{
 "metadata": {
  "language_info": {
   "codemirror_mode": {
    "name": "ipython",
    "version": 3
   },
   "file_extension": ".py",
   "mimetype": "text/x-python",
   "name": "python",
   "nbconvert_exporter": "python",
   "pygments_lexer": "ipython3",
   "version": "3.9.2"
  },
  "orig_nbformat": 2,
  "kernelspec": {
   "name": "python392jvsc74a57bd0cddab926b86a0355060d4c1e73e580d75bbe792e0d664150f1138a90cdb68d86",
   "display_name": "Python 3.9.2 64-bit"
  }
 },
 "nbformat": 4,
 "nbformat_minor": 2,
 "cells": [
  {
   "cell_type": "code",
   "execution_count": 1,
   "metadata": {},
   "outputs": [
    {
     "output_type": "execute_result",
     "data": {
      "text/plain": [
       "{2, 5, 7, 8}"
      ]
     },
     "metadata": {},
     "execution_count": 1
    }
   ],
   "source": [
    "# 7.1\n",
    "\n",
    "def notInBoth(setX, setY): return (setX | setY)-(setX & setY)\n",
    "\n",
    "notInBoth({2, 4, 5, 6}, {4, 6, 7, 8})"
   ]
  },
  {
   "cell_type": "code",
   "execution_count": 10,
   "metadata": {},
   "outputs": [
    {
     "output_type": "stream",
     "name": "stdout",
     "text": [
      "2.0\n0.0\nError! 10/0 division falied.\n"
     ]
    }
   ],
   "source": [
    "# 7.2\n",
    "\n",
    "def divide(num1, num2):\n",
    "    try:\n",
    "        print(num1/num2)\n",
    "    except:\n",
    "        print(f\"Error! {num1}/{num2} division falied.\")\n",
    "\n",
    "divide(10,5)\n",
    "divide(0,10)\n",
    "divide(10,0)"
   ]
  },
  {
   "cell_type": "code",
   "execution_count": 11,
   "metadata": {},
   "outputs": [],
   "source": [
    "# 7.3\n",
    "\n",
    "def readStoreReverse(readFilePath, writeFilePath):\n",
    "    open(writeFilePath, \"w\").write(open(readFilePath, \"r\").read()[::-1])\n",
    "\n",
    "readStoreReverse(\"Alphabets.txt\", \"r_Alphabets.txt\")"
   ]
  }
 ]
}