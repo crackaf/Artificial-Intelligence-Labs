{
  "cells": [
    {
      "cell_type": "markdown",
      "metadata": {
        "id": "U6k7lYnZ3clC"
      },
      "source": [
        "Genetic Algorithm"
      ]
    },
    {
      "cell_type": "code",
      "execution_count": 1,
      "metadata": {
        "id": "tGVaJS0W3ayk"
      },
      "outputs": [],
      "source": [
        "import random"
      ]
    },
    {
      "cell_type": "markdown",
      "metadata": {
        "id": "QxWWUHUx3sM4"
      },
      "source": [
        "Let say we have fucntion that evaluates the expression to 0 if the answer of expression \" 6 * x ** 3 + 9 * y ** 2 + 90 * z \" is 25. \n",
        "So That's mean we need the most suitable values of x, y and z so that we could achive our target value whichis 25 in this case. "
      ]
    },
    {
      "cell_type": "code",
      "execution_count": 2,
      "metadata": {
        "id": "a7BY0jfW3k0_"
      },
      "outputs": [],
      "source": [
        "def evaluateExpression(x, y, z):\n",
        "\treturn 6 * x ** 3 + 9 * y ** 2 + 90 * z - 25"
      ]
    },
    {
      "cell_type": "markdown",
      "metadata": {
        "id": "wFSAohyg4s_Y"
      },
      "source": [
        "Let's write the solution based on Genetic Algorithm technique to find the most suitable values of x, y and z. "
      ]
    },
    {
      "cell_type": "markdown",
      "metadata": {
        "id": "Kqovna8D5HOH"
      },
      "source": [
        "*Step1* : Population of Solutions: \n",
        "Population is generated entirely from random numbers let say upto 1000 indivuduals. "
      ]
    },
    {
      "cell_type": "code",
      "execution_count": 3,
      "metadata": {
        "id": "ujH6YRGj45L1"
      },
      "outputs": [],
      "source": [
        "# generate solutions\n",
        "solutions = []\n",
        "for counter in range(1000):\n",
        "\tsolutions.append((random.uniform(0, 1000), random.uniform(0, 1000), random.uniform(0, 1000)))\n"
      ]
    },
    {
      "cell_type": "markdown",
      "metadata": {
        "id": "WaGcxE1g5XDe"
      },
      "source": [
        "Step2: Fitness fucntion: \n",
        "So the most fittest solution will be the one which evalutes the expression to \"0\". Otherwise the best solution will be closest to zero. \n",
        "So the fittness in this case can be seen if the solution is closest to zero. Hnece we can return highest fitness value to those solution which are closest to zero. "
      ]
    },
    {
      "cell_type": "code",
      "execution_count": 4,
      "metadata": {
        "id": "13HwHogg5eYF"
      },
      "outputs": [],
      "source": [
        "def fitness(x, y, z):\n",
        "\tans = evaluateExpression(x, y, z)\n",
        "\n",
        "\tif ans == 0:\n",
        "\t\treturn 99999\n",
        "\telse:\n",
        "\t\treturn abs(1 / ans)\n"
      ]
    },
    {
      "cell_type": "markdown",
      "metadata": {
        "id": "301_DByz6mIG"
      },
      "source": [
        "Step3: Mating, Crossover or Generating the Genrations: \n",
        "During each generations further sub steps are performed like : \n",
        "Step 3.1: Selection of top ranked solutions \n",
        "Step 3.2: Mutation or slight changes or variation in values of solution. \n",
        "P.S(Here for the sake of anology if solution can be considered as chromosome then vatiable values can be considered as genes)\n",
        " "
      ]
    },
    {
      "cell_type": "code",
      "execution_count": 5,
      "metadata": {
        "colab": {
          "base_uri": "https://localhost:8080/"
        },
        "id": "naXvB6VE7_-7",
        "outputId": "44e79394-ac75-4ebf-cc0f-b10bdd663109"
      },
      "outputs": [
        {
          "name": "stdout",
          "output_type": "stream",
          "text": [
            "=== Generation 0 best solutions ====\n",
            "(9.16802436799419e-06, (3.1624081475676302, 98.34980264846915, 242.84267154018525))\n",
            "=== Generation 1 best solutions ====\n",
            "(0.00021930544018660265, (3.34920321122533, 4.025591872271577, 46.817672906460736))\n",
            "=== Generation 2 best solutions ====\n",
            "(0.0008243134863832445, (3.3987274003681627, 0.77626465929025, 11.079423621937082))\n",
            "=== Generation 3 best solutions ====\n",
            "(0.008128250238615518, (0.7713745826763444, 3.381383134160782, 0.4707783028402421))\n",
            "=== Generation 4 best solutions ====\n",
            "(0.019953926954512646, (0.7833470394598505, 0.7471753896454207, 0.7467431710223111))\n",
            "=== Generation 5 best solutions ====\n",
            "(0.04607343661777523, (0.7556619862358567, 0.4875988593117093, 0.46639661159548607))\n",
            "=== Generation 6 best solutions ====\n",
            "(0.052612225169657106, (0.47703865772474374, 0.4689661465660666, 0.45973644144274267))\n",
            "=== Generation 7 best solutions ====\n",
            "(0.05392544397709495, (0.46791428278449543, 0.46553082861076117, 0.4553218854011533))\n",
            "=== Generation 8 best solutions ====\n",
            "(0.0548061435159636, (0.46209935007159875, 0.46644521939557176, 0.45217712010721145))\n",
            "=== Generation 9 best solutions ====\n",
            "(0.05587838938344584, (0.4575766562510508, 0.4662598602409882, 0.4484954147275901))\n",
            "=== Generation 10 best solutions ====\n",
            "(0.05685804250576088, (0.45595146135149367, 0.4656557975050307, 0.44519346968028817))\n",
            "=== Generation 11 best solutions ====\n",
            "(0.05866924197887742, (0.45595212316343964, 0.44368391311481564, 0.4411585986202001))\n",
            "=== Generation 12 best solutions ====\n",
            "(0.059694373299065726, (0.445265421941925, 0.45607055300511395, 0.43722578986643484))\n",
            "=== Generation 13 best solutions ====\n",
            "(0.06099200137879463, (0.4562276365929461, 0.442216442841314, 0.4340647635840073))\n",
            "=== Generation 14 best solutions ====\n",
            "(0.0625769071638632, (0.4402003479471023, 0.4383580809245283, 0.430434591205023))\n",
            "=== Generation 15 best solutions ====\n",
            "(0.06404552809655664, (0.43524755989031905, 0.4324056147518479, 0.42707111301355205))\n",
            "=== Generation 16 best solutions ====\n",
            "(0.06527756172004946, (0.4267414580299455, 0.4302703435860987, 0.42429697361960833))\n",
            "=== Generation 17 best solutions ====\n",
            "(0.06689117875616647, (0.4342643437367394, 0.4269978363035115, 0.42019260172285805))\n",
            "=== Generation 18 best solutions ====\n",
            "(0.06822262618391575, (0.4233888866895657, 0.42682892008359274, 0.41736524299838235))\n",
            "=== Generation 19 best solutions ====\n",
            "(0.06971362877087395, (0.4213115160178238, 0.42265408158765105, 0.41431070967250927))\n",
            "=== Generation 20 best solutions ====\n",
            "(0.07121668340238299, (0.4136426313014532, 0.4133804473094521, 0.4119895220060713))\n",
            "=== Generation 21 best solutions ====\n",
            "(0.07317555148346071, (0.4121788374530451, 0.41354433779243255, 0.40784936001399424))\n",
            "=== Generation 22 best solutions ====\n",
            "(0.07488460588094756, (0.4139180386044741, 0.415161763092985, 0.40419056663264874))\n",
            "=== Generation 23 best solutions ====\n",
            "(0.07726813541679808, (0.4083849651504714, 0.4085204911094566, 0.40034762395862605))\n",
            "=== Generation 24 best solutions ====\n",
            "(0.07851090413745326, (0.4111127243733537, 0.40149942737261496, 0.3985485122689255))\n",
            "=== Generation 25 best solutions ====\n",
            "(0.08039823997986628, (0.4001174545569646, 0.40255519269776896, 0.3955032078651525))\n",
            "=== Generation 26 best solutions ====\n",
            "(0.08243465184981541, (0.40600227139474504, 0.40227817492017837, 0.39192026804738667))\n",
            "=== Generation 27 best solutions ====\n",
            "(0.08499989697310881, (0.400262734535838, 0.39765536826103776, 0.3884088315822465))\n",
            "=== Generation 28 best solutions ====\n",
            "(0.08753987675137229, (0.39091633082706556, 0.39959495986206844, 0.38475390657788067))\n",
            "=== Generation 29 best solutions ====\n",
            "(0.08962016126733673, (0.3848585692803498, 0.3925143820618846, 0.3825508125177226))\n",
            "=== Generation 30 best solutions ====\n",
            "(0.09158691952826775, (0.3898941285266051, 0.3910135546541953, 0.3798549013138532))\n",
            "=== Generation 31 best solutions ====\n",
            "(0.0947545999230146, (0.3916974874981652, 0.38173501995946496, 0.37646112318911695))\n",
            "=== Generation 32 best solutions ====\n",
            "(0.09815355418720581, (0.3811646461079365, 0.3792607206776413, 0.37290334884469595))\n",
            "=== Generation 33 best solutions ====\n",
            "(0.10039443683760169, (0.3732658879102393, 0.37969865164865824, 0.37056816272352794))\n",
            "=== Generation 34 best solutions ====\n",
            "(0.10389444666650662, (0.37169505007628445, 0.37669235792165157, 0.3671107247721008))\n",
            "=== Generation 35 best solutions ====\n",
            "(0.10742806115973753, (0.3690753468596283, 0.3671274799132734, 0.36437629349695283))\n",
            "=== Generation 36 best solutions ====\n",
            "(0.11141122188265942, (0.36708461528783193, 0.36460346077344447, 0.3609171665539299))\n",
            "=== Generation 37 best solutions ====\n",
            "(0.1142017681745498, (0.3633667819755497, 0.36430393968445923, 0.3586012432675803))\n",
            "=== Generation 38 best solutions ====\n",
            "(0.11869259745798062, (0.3581316987842306, 0.3588706460228415, 0.35544924199637457))\n",
            "=== Generation 39 best solutions ====\n",
            "(0.12265190400339714, (0.36047298192873584, 0.35797754474666216, 0.3524309222432889))\n",
            "=== Generation 40 best solutions ====\n",
            "(0.12702778936620235, (0.356958303696813, 0.35366946334014254, 0.3497072695852878))\n",
            "=== Generation 41 best solutions ====\n",
            "(0.13229927386687854, (0.36235920556693657, 0.353082776934846, 0.3461237527371279))\n",
            "=== Generation 42 best solutions ====\n",
            "(0.1373751534056318, (0.35240187490841807, 0.35125017873702596, 0.34340404417317627))\n",
            "=== Generation 43 best solutions ====\n",
            "(0.14101236966919034, (0.35594368850984864, 0.3535744272009673, 0.3410651434966324))\n",
            "=== Generation 44 best solutions ====\n",
            "(0.1466751128400511, (0.3492040581077424, 0.3410113358001374, 0.33906324090929135))\n",
            "=== Generation 45 best solutions ====\n",
            "(0.15232061651091172, (0.34004574782425157, 0.3456648643007589, 0.33615358319749666))\n",
            "=== Generation 46 best solutions ====\n",
            "(0.1602381910723779, (0.3398657671986998, 0.3397026528557763, 0.33296204069))\n",
            "=== Generation 47 best solutions ====\n",
            "(0.16775453361658746, (0.336136712649593, 0.33209474231545216, 0.33045146923057483))\n",
            "=== Generation 48 best solutions ====\n",
            "(0.17426477353738504, (0.3405661311578444, 0.33551232473802006, 0.3276474860877583))\n",
            "=== Generation 49 best solutions ====\n",
            "(0.1833111672714579, (0.32858859823689035, 0.3341367251240625, 0.32486124082820883))\n",
            "=== Generation 50 best solutions ====\n",
            "(0.18993988079269364, (0.32595379589286055, 0.3273548202132494, 0.3232509520828036))\n",
            "=== Generation 51 best solutions ====\n",
            "(0.19853734684368254, (0.32285846879258095, 0.32284519417653657, 0.32107611788671764))\n",
            "=== Generation 52 best solutions ====\n",
            "(0.21055123819723467, (0.3214380718646252, 0.3223270159793547, 0.3179457202642892))\n",
            "=== Generation 53 best solutions ====\n",
            "(0.22240395886492167, (0.32249918303450864, 0.31901922232467017, 0.31532347664450067))\n",
            "=== Generation 54 best solutions ====\n",
            "(0.24036771848460534, (0.3229072658327834, 0.31520928556960504, 0.3118229431522641))\n",
            "=== Generation 55 best solutions ====\n",
            "(0.25703119713451267, (0.31600276176862946, 0.3155717422577402, 0.3089441849681072))\n",
            "=== Generation 56 best solutions ====\n",
            "(0.27696151885800746, (0.3188017288785314, 0.3131504361069971, 0.30592926139492166))\n",
            "=== Generation 57 best solutions ====\n",
            "(0.29563226092017314, (0.32066325045453525, 0.30808667141829216, 0.3036721239399043))\n",
            "=== Generation 58 best solutions ====\n",
            "(0.32233346481198033, (0.3060530187427383, 0.3103734630732887, 0.300704299707647))\n",
            "=== Generation 59 best solutions ====\n",
            "(0.34107974804514574, (0.30633390228374824, 0.30787714818323575, 0.2989587947509468))\n",
            "=== Generation 60 best solutions ====\n",
            "(0.3749811336309269, (0.3122621283831864, 0.30241727093396986, 0.2962334147687157))\n",
            "=== Generation 61 best solutions ====\n",
            "(0.417852744086153, (0.2995246817824525, 0.3036368175149524, 0.2933577614419723))\n",
            "=== Generation 62 best solutions ====\n",
            "(0.4553337523085057, (0.30636029362225625, 0.2963174687718964, 0.29148256884487916))\n",
            "=== Generation 63 best solutions ====\n",
            "(0.49216777889485097, (0.2919293096587399, 0.29859145837785844, 0.2897793516700559))\n",
            "=== Generation 64 best solutions ====\n",
            "(0.5491386293036017, (0.296425884605873, 0.2920107793496258, 0.2877480277057772))\n",
            "=== Generation 65 best solutions ====\n",
            "(0.6253057570535333, (0.28817553244935556, 0.2903430327746073, 0.28552151660278413))\n",
            "=== Generation 66 best solutions ====\n",
            "(0.7332392783090774, (0.291395698315349, 0.29198585203874017, 0.2827561405423814))\n",
            "=== Generation 67 best solutions ====\n",
            "(0.8975088577418745, (0.2818968607426569, 0.29042236396305765, 0.28022979734650727))\n",
            "=== Generation 68 best solutions ====\n",
            "(1.085890451202425, (0.28087664127431233, 0.2897925143581426, 0.27813481002338597))\n",
            "=== Generation 69 best solutions ====\n",
            "(1.5198960533104287, (0.28043054477771645, 0.2790687634777919, 0.275830053760291))\n",
            "=== Generation 70 best solutions ====\n",
            "(2.42476422356175, (0.2772277474185181, 0.2763095536093816, 0.2733050011476624))\n",
            "=== Generation 71 best solutions ====\n",
            "(5.309007275444945, (0.28079374081250136, 0.2762843369850417, 0.2707614056940081))\n",
            "=== Generation 72 best solutions ====\n",
            "(665.7577042002126, (0.27764712366720157, 0.27986512187260537, 0.2685017569970373))\n",
            "=== Generation 73 best solutions ====\n",
            "(1176.4524206071278, (0.2729781737135898, 0.2732831040679676, 0.268943865202833))\n"
          ]
        }
      ],
      "source": [
        "for generation_count in range(10000):\n",
        "\trankedSolutions = []\n",
        "  # fitness step\n",
        "\tfor solution in solutions:\n",
        "\t\trankedSolutions.append((fitness(solution[0], solution[1], solution[2]), solution))\n",
        "\trankedSolutions.sort()\n",
        "\trankedSolutions.reverse()\n",
        "\tprint(f\"=== Generation {generation_count} best solutions ====\")\n",
        "\tprint(rankedSolutions[0])\n",
        "\n",
        "\tif rankedSolutions[0][0] > 999:\n",
        "\t\tbreak\n",
        "\n",
        "\tbestSolution = rankedSolutions[:100]\n",
        "\t# print(bestSolution)\n",
        "\n",
        "  # selection step\n",
        "\tvariables = []\n",
        "\tfor solution in bestSolution:\n",
        "\t\tvariables.append(solution[1][0])  # variable x\n",
        "\t\tvariables.append(solution[1][1])  # variable y\n",
        "\t\tvariables.append(solution[1][2])  # variable z\n",
        "\n",
        "\tnewGeneration = []\n",
        "  # mutation step\n",
        "\tfor counter in range(1000):\n",
        "\t\tx = random.choice(variables) * random.uniform(0.99, 1.01)\n",
        "\t\ty = random.choice(variables) * random.uniform(0.99, 1.01)\n",
        "\t\tz = random.choice(variables) * random.uniform(0.99, 1.01)\n",
        "\n",
        "\t\tnewGeneration.append((x, y, z))\n",
        "\n",
        "\tsolutions = newGeneration\n"
      ]
    },
    {
      "cell_type": "markdown",
      "metadata": {},
      "source": [
        "# 8 Queens problem"
      ]
    },
    {
      "cell_type": "code",
      "execution_count": 6,
      "metadata": {},
      "outputs": [],
      "source": [
        "import random as rnd\n"
      ]
    },
    {
      "cell_type": "code",
      "execution_count": 7,
      "metadata": {},
      "outputs": [],
      "source": [
        "# returns the random array\n",
        "def random_arr(lower, upper, size):\n",
        "    return [rnd.randrange(lower, upper+1) for _ in range(size)]\n"
      ]
    },
    {
      "cell_type": "code",
      "execution_count": 8,
      "metadata": {},
      "outputs": [],
      "source": [
        "# cross over between chromosomes\n",
        "def reproduce(x, y):\n",
        "    tmp = rnd.randint(0, len(x)-1)\n",
        "    return x[:tmp]+y[tmp:]\n"
      ]
    },
    {
      "cell_type": "code",
      "execution_count": 9,
      "metadata": {},
      "outputs": [],
      "source": [
        "# randomly change the value of index\n",
        "def mutate(x):\n",
        "    inp = rnd.randint(1, len(x))\n",
        "    x[rnd.randrange(0, len(x))] = inp\n",
        "    return x\n"
      ]
    },
    {
      "cell_type": "code",
      "execution_count": 10,
      "metadata": {},
      "outputs": [],
      "source": [
        "# pick the random chromosome from population while seeing the probabilities\n",
        "def random_pick(population, probs):\n",
        "    r = rnd.uniform(0, sum(probs))\n",
        "    endpoint = 0\n",
        "    for pop, prob in zip(population, probs):\n",
        "        if endpoint+prob >= r:\n",
        "            return pop  # picking random chromosome\n",
        "        endpoint += prob\n",
        "    print(\"Error!\")\n",
        "    exit()\n"
      ]
    },
    {
      "cell_type": "code",
      "execution_count": 11,
      "metadata": {},
      "outputs": [],
      "source": [
        "def genetic_algo(population, maxfitness):\n",
        "    mutation_prob = 0.85  # mutation 85%\n",
        "    new_population = []\n",
        "    # all probabilites or percentages\n",
        "    probs = [fitness(pop)/maxfitness for pop in population]\n",
        "    for _ in range(len(population)):\n",
        "        x = random_pick(population, probs)  # one best chromosome\n",
        "        y = random_pick(population, probs)  # two best chromosome\n",
        "\n",
        "        # creating child\n",
        "        child = reproduce(x, y)\n",
        "        if rnd.random() < mutation_prob:\n",
        "            child = mutate(child)  # rarely mutate\n",
        "\n",
        "        new_population.append(child)\n",
        "        if fitness(child) >= maxfitness:\n",
        "            break\n",
        "    return new_population\n",
        "    "
      ]
    },
    {
      "cell_type": "code",
      "execution_count": 12,
      "metadata": {},
      "outputs": [],
      "source": [
        "def fitness(x):  # checking the chromosome for fitness\n",
        "    horizontal_collisions = sum(\n",
        "        [x.count(queen)-1 for queen in x])/2\n",
        "    diagonal_collisions = 0\n",
        "\n",
        "    n = len(x)\n",
        "    left_diagonal = [0] * 2*n\n",
        "    right_diagonal = [0] * 2*n\n",
        "    for i in range(n):\n",
        "        left_diagonal[i + x[i] - 1] += 1\n",
        "        right_diagonal[len(x) - i + x[i] - 2] += 1\n",
        "\n",
        "    diagonal_collisions = 0\n",
        "    for i in range(2*n-1):\n",
        "        counter = 0\n",
        "        if left_diagonal[i] > 1:\n",
        "            counter += left_diagonal[i]-1\n",
        "        if right_diagonal[i] > 1:\n",
        "            counter += right_diagonal[i]-1\n",
        "        diagonal_collisions += counter / (n-abs(i-n+1))\n",
        "\n",
        "    # 28-(2+3)=23\n",
        "    return int((n*(n-1))/2 - (horizontal_collisions + diagonal_collisions))\n"
      ]
    },
    {
      "cell_type": "code",
      "execution_count": 13,
      "metadata": {},
      "outputs": [],
      "source": [
        "def print_chromosome(chrom):\n",
        "    print(f\"Chromosome = {str(chrom)},  Fitness = {fitness(chrom)}\")\n"
      ]
    },
    {
      "cell_type": "code",
      "execution_count": 14,
      "metadata": {},
      "outputs": [
        {
          "name": "stdout",
          "output_type": "stream",
          "text": [
            "Generation= 100, Sol=[2, 3, 4, 7, 5, 2, 6, 1] Maximum Fitness = 26\n",
            "Generation= 200, Sol=[4, 8, 3, 3, 6, 8, 1, 5] Maximum Fitness = 26\n",
            "Generation= 300, Sol=[7, 4, 4, 2, 8, 5, 6, 3] Maximum Fitness = 26\n",
            "Generation= 400, Sol=[3, 6, 4, 5, 1, 8, 2, 7] Maximum Fitness = 27\n",
            "Generation= 500, Sol=[5, 8, 3, 6, 2, 7, 4, 8] Maximum Fitness = 26\n",
            "Generation= 600, Sol=[1, 6, 5, 1, 2, 4, 7, 8] Maximum Fitness = 26\n",
            "Generation= 700, Sol=[5, 4, 7, 2, 6, 5, 1, 3] Maximum Fitness = 26\n",
            "Generation= 800, Sol=[2, 3, 1, 8, 5, 6, 7, 2] Maximum Fitness = 26\n",
            "Generation= 900, Sol=[4, 1, 6, 3, 2, 7, 5, 3] Maximum Fitness = 26\n",
            "Generation= 1000, Sol=[1, 4, 8, 2, 5, 3, 7, 6] Maximum Fitness = 27\n",
            "Generation= 1100, Sol=[6, 4, 8, 3, 2, 5, 7, 1] Maximum Fitness = 27\n",
            "Generation= 1200, Sol=[7, 5, 6, 8, 4, 2, 1, 3] Maximum Fitness = 27\n",
            "Generation= 1300, Sol=[5, 2, 4, 1, 3, 8, 6, 2] Maximum Fitness = 27\n",
            "Solved!!\n",
            "Generation= 1342, Sol=[8, 3, 1, 6, 2, 5, 7, 4] Maximum Fitness = 28\n"
          ]
        }
      ],
      "source": [
        "nq = int(input(\"Enter number of queens: \"))  # number of queens\n",
        "maxfitness = (nq*(nq-1))/2\n",
        "\n",
        "population = [random_arr(1, nq, nq) for _ in range(nq*nq)]\n",
        "\n",
        "generation = 1\n",
        "\n",
        "while not maxfitness in [fitness(chrom) for chrom in population]:\n",
        "    population = genetic_algo(population, maxfitness)\n",
        "    generation += 1\n",
        "    if generation % 100 == 0:\n",
        "        besttill = max([(fitness(n), n) for n in population],key=lambda x:x[0])\n",
        "        print(\n",
        "            f\"Generation= {generation}, Sol={besttill[1]} Maximum Fitness = {besttill[0]}\")\n",
        "print(\"Solved!!\")\n",
        "chrom_out=[]\n",
        "for chrom in population:\n",
        "    if fitness(chrom) == maxfitness:\n",
        "        chrom_out = chrom\n",
        "        print(\n",
        "            f\"Generation= {generation}, Sol={chrom} Maximum Fitness = {fitness(chrom)}\")\n"
      ]
    },
    {
      "cell_type": "code",
      "execution_count": 21,
      "metadata": {},
      "outputs": [
        {
          "data": {
            "text/plain": [
              "[['Q', 'x', 'x', 'x', 'x', 'x', 'x', 'x'],\n",
              " ['x', 'x', 'x', 'x', 'x', 'x', 'Q', 'x'],\n",
              " ['x', 'x', 'x', 'Q', 'x', 'x', 'x', 'x'],\n",
              " ['x', 'x', 'x', 'x', 'x', 'Q', 'x', 'x'],\n",
              " ['x', 'x', 'x', 'x', 'x', 'x', 'x', 'Q'],\n",
              " ['x', 'Q', 'x', 'x', 'x', 'x', 'x', 'x'],\n",
              " ['x', 'x', 'x', 'x', 'Q', 'x', 'x', 'x'],\n",
              " ['x', 'x', 'Q', 'x', 'x', 'x', 'x', 'x']]"
            ]
          },
          "execution_count": 21,
          "metadata": {},
          "output_type": "execute_result"
        }
      ],
      "source": [
        "#visualisation\n",
        "\n",
        "board=[]\n",
        "\n",
        "for x in range(nq):\n",
        "    board.append([\"x\"] * nq)\n",
        "\n",
        "for i in range(nq):\n",
        "    board[nq-chrom_out[i]][i] = \"Q\"\n",
        "\n",
        "board\n"
      ]
    }
  ],
  "metadata": {
    "colab": {
      "collapsed_sections": [],
      "name": "FAST_NU_LAB_AI_BCS_6_E_F_Problem Solving by Genetic Algorithm.ipynb",
      "provenance": []
    },
    "interpreter": {
      "hash": "cddab926b86a0355060d4c1e73e580d75bbe792e0d664150f1138a90cdb68d86"
    },
    "kernelspec": {
      "display_name": "Python 3.9.2 64-bit",
      "name": "python3"
    },
    "language_info": {
      "codemirror_mode": {
        "name": "ipython",
        "version": 3
      },
      "file_extension": ".py",
      "mimetype": "text/x-python",
      "name": "python",
      "nbconvert_exporter": "python",
      "pygments_lexer": "ipython3",
      "version": "3.9.2"
    }
  },
  "nbformat": 4,
  "nbformat_minor": 0
}