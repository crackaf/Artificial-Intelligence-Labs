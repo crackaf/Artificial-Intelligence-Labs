{
  "cells": [
    {
      "cell_type": "markdown",
      "metadata": {
        "id": "U6k7lYnZ3clC"
      },
      "source": [
        "Genetic Algorithm"
      ]
    },
    {
      "cell_type": "code",
      "execution_count": 6,
      "metadata": {},
      "outputs": [],
      "source": [
        "import random as rnd"
      ]
    },
    {
      "cell_type": "code",
      "execution_count": 7,
      "metadata": {},
      "outputs": [],
      "source": [
        "# returns the random array\n",
        "def random_arr(lower, upper, size):\n",
        "    return [rnd.randrange(lower, upper+1) for _ in range(size)]\n"
      ]
    },
    {
      "cell_type": "code",
      "execution_count": 8,
      "metadata": {},
      "outputs": [],
      "source": [
        "# cross over between chromosomes\n",
        "def reproduce(x, y):\n",
        "    tmp = rnd.randint(0, len(x)-1)\n",
        "    return x[:tmp]+y[tmp:]\n"
      ]
    },
    {
      "cell_type": "code",
      "execution_count": 9,
      "metadata": {},
      "outputs": [],
      "source": [
        "# randomly change the value of index\n",
        "def mutate(x):\n",
        "    inp = rnd.randint(1, len(x))\n",
        "    x[rnd.randrange(0, len(x))] = inp\n",
        "    return x\n"
      ]
    },
    {
      "cell_type": "code",
      "execution_count": 10,
      "metadata": {},
      "outputs": [],
      "source": [
        "# pick the random chromosome from population while seeing the probabilities\n",
        "def random_pick(population, probs):\n",
        "    r = rnd.uniform(0, sum(probs))\n",
        "    endpoint = 0\n",
        "    for pop, prob in zip(population, probs):\n",
        "        if endpoint+prob >= r:\n",
        "            return pop  # picking random chromosome\n",
        "        endpoint += prob\n",
        "    print(\"Error!\")\n",
        "    exit()\n"
      ]
    },
    {
      "cell_type": "code",
      "execution_count": 11,
      "metadata": {},
      "outputs": [],
      "source": [
        "def genetic_algo(population, maxfitness):\n",
        "    mutation_prob = 0.85  # mutation 85%\n",
        "    new_population = []\n",
        "    # all probabilites or percentages\n",
        "    probs = [fitness(pop)/maxfitness for pop in population]\n",
        "    for _ in range(len(population)):\n",
        "        x = random_pick(population, probs)  # one best chromosome\n",
        "        y = random_pick(population, probs)  # two best chromosome\n",
        "\n",
        "        # creating child\n",
        "        child = reproduce(x, y)\n",
        "        if rnd.random() < mutation_prob:\n",
        "            child = mutate(child)  # rarely mutate\n",
        "\n",
        "        new_population.append(child)\n",
        "        if fitness(child) >= maxfitness:\n",
        "            break\n",
        "    return new_population\n",
        "    "
      ]
    },
    {
      "cell_type": "code",
      "execution_count": 12,
      "metadata": {},
      "outputs": [],
      "source": [
        "def fitness(x):  # checking the chromosome for fitness\n",
        "    horizontal_collisions = sum(\n",
        "        [x.count(queen)-1 for queen in x])/2\n",
        "    diagonal_collisions = 0\n",
        "\n",
        "    n = len(x)\n",
        "    left_diagonal = [0] * 2*n\n",
        "    right_diagonal = [0] * 2*n\n",
        "    for i in range(n):\n",
        "        left_diagonal[i + x[i] - 1] += 1\n",
        "        right_diagonal[len(x) - i + x[i] - 2] += 1\n",
        "\n",
        "    diagonal_collisions = 0\n",
        "    for i in range(2*n-1):\n",
        "        counter = 0\n",
        "        if left_diagonal[i] > 1:\n",
        "            counter += left_diagonal[i]-1\n",
        "        if right_diagonal[i] > 1:\n",
        "            counter += right_diagonal[i]-1\n",
        "        diagonal_collisions += counter / (n-abs(i-n+1))\n",
        "\n",
        "    # 28-(2+3)=23\n",
        "    return int((n*(n-1))/2 - (horizontal_collisions + diagonal_collisions))\n"
      ]
    },
    {
      "cell_type": "code",
      "execution_count": 13,
      "metadata": {},
      "outputs": [],
      "source": [
        "def print_chromosome(chrom):\n",
        "    print(f\"Chromosome = {str(chrom)},  Fitness = {fitness(chrom)}\")\n"
      ]
    },
    {
      "cell_type": "code",
      "execution_count": 14,
      "metadata": {},
      "outputs": [
        {
          "name": "stdout",
          "output_type": "stream",
          "text": [
            "Generation= 100, Sol=[2, 3, 4, 7, 5, 2, 6, 1] Maximum Fitness = 26\n",
            "Generation= 200, Sol=[4, 8, 3, 3, 6, 8, 1, 5] Maximum Fitness = 26\n",
            "Generation= 300, Sol=[7, 4, 4, 2, 8, 5, 6, 3] Maximum Fitness = 26\n",
            "Generation= 400, Sol=[3, 6, 4, 5, 1, 8, 2, 7] Maximum Fitness = 27\n",
            "Generation= 500, Sol=[5, 8, 3, 6, 2, 7, 4, 8] Maximum Fitness = 26\n",
            "Generation= 600, Sol=[1, 6, 5, 1, 2, 4, 7, 8] Maximum Fitness = 26\n",
            "Generation= 700, Sol=[5, 4, 7, 2, 6, 5, 1, 3] Maximum Fitness = 26\n",
            "Generation= 800, Sol=[2, 3, 1, 8, 5, 6, 7, 2] Maximum Fitness = 26\n",
            "Generation= 900, Sol=[4, 1, 6, 3, 2, 7, 5, 3] Maximum Fitness = 26\n",
            "Generation= 1000, Sol=[1, 4, 8, 2, 5, 3, 7, 6] Maximum Fitness = 27\n",
            "Generation= 1100, Sol=[6, 4, 8, 3, 2, 5, 7, 1] Maximum Fitness = 27\n",
            "Generation= 1200, Sol=[7, 5, 6, 8, 4, 2, 1, 3] Maximum Fitness = 27\n",
            "Generation= 1300, Sol=[5, 2, 4, 1, 3, 8, 6, 2] Maximum Fitness = 27\n",
            "Solved!!\n",
            "Generation= 1342, Sol=[8, 3, 1, 6, 2, 5, 7, 4] Maximum Fitness = 28\n"
          ]
        }
      ],
      "source": [
        "nq = int(input(\"Enter number of queens: \"))  # number of queens\n",
        "maxfitness = (nq*(nq-1))/2\n",
        "\n",
        "population = [random_arr(1, nq, nq) for _ in range(nq*nq)]\n",
        "\n",
        "generation = 1\n",
        "\n",
        "while not maxfitness in [fitness(chrom) for chrom in population]:\n",
        "    population = genetic_algo(population, maxfitness)\n",
        "    generation += 1\n",
        "    if generation % 100 == 0:\n",
        "        besttill = max([(fitness(n), n) for n in population],key=lambda x:x[0])\n",
        "        print(\n",
        "            f\"Generation= {generation}, Sol={besttill[1]} Maximum Fitness = {besttill[0]}\")\n",
        "print(\"Solved!!\")\n",
        "chrom_out=[]\n",
        "for chrom in population:\n",
        "    if fitness(chrom) == maxfitness:\n",
        "        chrom_out = chrom\n",
        "        print(\n",
        "            f\"Generation= {generation}, Sol={chrom} Maximum Fitness = {fitness(chrom)}\")\n"
      ]
    }
  ],
  "metadata": {
    "colab": {
      "collapsed_sections": [],
      "name": "FAST_NU_LAB_AI_BCS_6_E_F_Problem Solving by Genetic Algorithm.ipynb",
      "provenance": []
    },
    "interpreter": {
      "hash": "cddab926b86a0355060d4c1e73e580d75bbe792e0d664150f1138a90cdb68d86"
    },
    "kernelspec": {
      "display_name": "Python 3.9.2 64-bit",
      "name": "python3"
    },
    "language_info": {
      "codemirror_mode": {
        "name": "ipython",
        "version": 3
      },
      "file_extension": ".py",
      "mimetype": "text/x-python",
      "name": "python",
      "nbconvert_exporter": "python",
      "pygments_lexer": "ipython3",
      "version": "3.9.2"
    }
  },
  "nbformat": 4,
  "nbformat_minor": 0
}