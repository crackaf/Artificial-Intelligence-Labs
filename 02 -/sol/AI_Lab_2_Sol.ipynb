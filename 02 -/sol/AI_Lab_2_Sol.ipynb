{
 "cells": [
  {
   "cell_type": "code",
   "execution_count": 10,
   "metadata": {
    "id": "KXkro8-7bTDc"
   },
   "outputs": [],
   "source": [
    "def chickens(count):\n",
    "  return f\"Number of chickens: {count}\" if count < 10 else \"Number of chickens: many\""
   ]
  },
  {
   "cell_type": "code",
   "execution_count": 11,
   "metadata": {
    "id": "-Bzoj_dxbab4"
   },
   "outputs": [],
   "source": [
    "def string_both_ends_3(s):\n",
    "  return s if len(s) < 3 else s[:3]+s[len(s)-3:]"
   ]
  },
  {
   "cell_type": "code",
   "execution_count": 12,
   "metadata": {
    "id": "89-n4vxQbcQ2"
   },
   "outputs": [],
   "source": [
    "def first_char_replace(s):\n",
    "  return s[0]+s[1:].replace(s[0].lower(), '@').replace(s[0].upper(), '@')"
   ]
  },
  {
   "cell_type": "code",
   "execution_count": 13,
   "metadata": {
    "id": "2kbjAlDBbeLl"
   },
   "outputs": [],
   "source": [
    "def string_jumble(a, b):\n",
    "  return b[:2]+a[2:]+' '+a[:2]+b[2:]"
   ]
  },
  {
   "cell_type": "code",
   "execution_count": 14,
   "metadata": {
    "id": "7yLC3ffrbges"
   },
   "outputs": [],
   "source": [
    "def match_first_last(words):\n",
    "    words = [s[0]+s[-1] for s in words if len(s)>=2]\n",
    "    sum = [0]\n",
    "    while len(words) > 0:\n",
    "        sum.append(words.count(words[0]))\n",
    "        words.remove(words[0])\n",
    "    return max(sum)"
   ]
  },
  {
   "cell_type": "code",
   "execution_count": 15,
   "metadata": {
    "id": "-KSpx8tDbiNr"
   },
   "outputs": [],
   "source": [
    "def group_strings(words):\n",
    "  return sorted(words)"
   ]
  },
  {
   "cell_type": "code",
   "execution_count": 16,
   "metadata": {
    "id": "bbdfkeD7bmFr"
   },
   "outputs": [],
   "source": [
    "def sort_last(tuples):\n",
    "  return sorted(tuples, key=lambda x:x[1])"
   ]
  },
  {
   "cell_type": "code",
   "execution_count": 17,
   "metadata": {
    "id": "T8E4jaD5bnzK"
   },
   "outputs": [],
   "source": [
    "def main():\n",
    "  print ('Number of chickens')\n",
    "  print(chickens(4))\n",
    "  print(chickens(9))\n",
    "  print(chickens(10))\n",
    "  print(chickens(99))\n",
    "\n",
    "  print ('\\n3 characters from both ends')\n",
    "  print(string_both_ends_3('spring'))\n",
    "  print(string_both_ends_3('Intelligence'))\n",
    "  print(string_both_ends_3('a'))\n",
    "  print(string_both_ends_3('xyz'))\n",
    "\n",
    "  print ('\\nReplace occurrences of first character')\n",
    "  print(first_char_replace('babble'))\n",
    "  print(first_char_replace('aardvark'))\n",
    "  print(first_char_replace('google'))\n",
    "  print(first_char_replace('Ooogle'))\n",
    "\n",
    "  print ('\\nString Jumble')\n",
    "  print(string_jumble('mix', 'pod'))\n",
    "  print(string_jumble('dog', 'dinner'))\n",
    "  print(string_jumble('gnash', 'sport'))\n",
    "  print(string_jumble('pezzy', 'firm'))\n",
    "\n",
    "  print ('\\nMatching first and last characters')\n",
    "  print(match_first_last(['aba', 'xyz', 'aa', 'a', 'bbb']))\n",
    "  print(match_first_last(['', 'x', 'ay', 'ayx', 'ax']))\n",
    "  print(match_first_last(['aaa', 'be', 'abc', 'aello']))\n",
    "\n",
    "  print ('\\nGroup string in a list')\n",
    "  print(group_strings(['bbb', 'ccc', 'axx', 'xzz', 'aaa']))\n",
    "  print(group_strings(['ccc', 'abb', 'aaa', 'xcc', 'aaa']))\n",
    "  print(group_strings(['mix', 'xyz', 'apple', 'xanadu', 'aardvark']))\n",
    "\n",
    "  print ('\\nsort_last')\n",
    "  print(sort_last([(1, 3), (3, 2), (2, 1)]))\n",
    "  print(sort_last([(2, 3), (1, 2), (3, 1)]))\n",
    "  print(sort_last([(1, 7), (1, 3), (3, 4, 5), (2, 2)]))"
   ]
  },
  {
   "cell_type": "code",
   "execution_count": 18,
   "metadata": {
    "id": "cAmJUqYJbpwR"
   },
   "outputs": [
    {
     "output_type": "stream",
     "name": "stdout",
     "text": [
      "Number of chickens\nNumber of chickens: 4\nNumber of chickens: 9\nNumber of chickens: many\nNumber of chickens: many\n\n3 characters from both ends\nspring\nIntnce\na\nxyzxyz\n\nReplace occurrences of first character\nba@@le\na@rdv@rk\ngoo@le\nO@@gle\n\nString Jumble\npox mid\ndig donner\nspash gnort\nfizzy perm\n\nMatching first and last characters\n2\n2\n1\n\nGroup string in a list\n['aaa', 'axx', 'bbb', 'ccc', 'xzz']\n['aaa', 'aaa', 'abb', 'ccc', 'xcc']\n['aardvark', 'apple', 'mix', 'xanadu', 'xyz']\n\nsort_last\n[(2, 1), (3, 2), (1, 3)]\n[(3, 1), (1, 2), (2, 3)]\n[(2, 2), (1, 3), (3, 4, 5), (1, 7)]\n"
     ]
    }
   ],
   "source": [
    "'''\n",
    "Python files .py are modules. Modules can define variables, functions, and classes.\n",
    "When a Python interpreter reads a Python file, it first sets a few special variables.\n",
    "Then it executes the code from the file. \n",
    "\n",
    "One of those variables is called __name__.\n",
    "\n",
    "When the interpreter runs a module, the __name__ variable will be set as  __main__ \n",
    "if the module that is being run is the main program.\n",
    "\n",
    "If the code is importing the module from another module, then the __name__  \n",
    "variable will be set to that module’s name.\n",
    "'''\n",
    "# Standard boilerplate to call the main() function.\n",
    "if __name__ == '__main__':\n",
    "  main()"
   ]
  }
 ],
 "metadata": {
  "colab": {
   "name": "AI Lab 2 Exercise.ipynb",
   "provenance": []
  },
  "kernelspec": {
   "display_name": "Python 3",
   "language": "python",
   "name": "python3"
  },
  "language_info": {
   "codemirror_mode": {
    "name": "ipython",
    "version": 3
   },
   "file_extension": ".py",
   "mimetype": "text/x-python",
   "name": "python",
   "nbconvert_exporter": "python",
   "pygments_lexer": "ipython3",
   "version": "3.9.2-final"
  }
 },
 "nbformat": 4,
 "nbformat_minor": 1
}