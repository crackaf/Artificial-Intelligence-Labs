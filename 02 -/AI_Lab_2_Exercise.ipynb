{
 "cells": [
  {
   "cell_type": "code",
   "execution_count": 3,
   "metadata": {
    "id": "KXkro8-7bTDc"
   },
   "outputs": [],
   "source": [
    "def chickens(count):\n",
    "  # +++your code here+++\n",
    "  # LAB(begin solution)\n",
    "  pass\n",
    "  # LAB(end solution)"
   ]
  },
  {
   "cell_type": "code",
   "execution_count": 2,
   "metadata": {
    "id": "-Bzoj_dxbab4"
   },
   "outputs": [],
   "source": [
    "def string_both_ends_3(s):\n",
    "  # +++your code here+++\n",
    "  # LAB(begin solution)\n",
    "  pass\n",
    "  # LAB(end solution)"
   ]
  },
  {
   "cell_type": "code",
   "execution_count": 4,
   "metadata": {
    "id": "89-n4vxQbcQ2"
   },
   "outputs": [],
   "source": [
    "def first_char_replace(s):\n",
    "  # +++your code here+++\n",
    "  # LAB(begin solution)\n",
    "  pass\n",
    "  # LAB(end solution)"
   ]
  },
  {
   "cell_type": "code",
   "execution_count": 5,
   "metadata": {
    "id": "2kbjAlDBbeLl"
   },
   "outputs": [],
   "source": [
    "def string_jumble(a, b):\n",
    "  # +++your code here+++\n",
    "  # LAB(begin solution)\n",
    "  pass\n",
    "  # LAB(end solution)"
   ]
  },
  {
   "cell_type": "code",
   "execution_count": 6,
   "metadata": {
    "id": "7yLC3ffrbges"
   },
   "outputs": [],
   "source": [
    "def match_first_last(words):\n",
    "  # +++your code here+++\n",
    "  # LAB(begin solution)\n",
    "  pass\n",
    "  # LAB(end solution)"
   ]
  },
  {
   "cell_type": "code",
   "execution_count": 7,
   "metadata": {
    "id": "-KSpx8tDbiNr"
   },
   "outputs": [],
   "source": [
    "def group_strings(words):\n",
    "  # +++your code here+++\n",
    "  # LAB(begin solution)\n",
    "  pass\n",
    "  # LAB(end solution)"
   ]
  },
  {
   "cell_type": "code",
   "execution_count": 8,
   "metadata": {
    "id": "bbdfkeD7bmFr"
   },
   "outputs": [],
   "source": [
    "def sort_last(tuples):\n",
    "  # +++your code here+++\n",
    "  # LAB(begin solution)\n",
    "  pass\n",
    "  # LAB(end solution)"
   ]
  },
  {
   "cell_type": "code",
   "execution_count": 9,
   "metadata": {
    "id": "T8E4jaD5bnzK"
   },
   "outputs": [],
   "source": [
    "def main():\n",
    "  print ('Number of chickens')\n",
    "  print(chickens(4))\n",
    "  print(chickens(9))\n",
    "  print(chickens(10))\n",
    "  print(chickens(99))\n",
    "\n",
    "  print ('\\n3 characters from both ends')\n",
    "  print(string_both_ends_3('spring'))\n",
    "  print(string_both_ends_3('Intelligence'))\n",
    "  print(string_both_ends_3('a'))\n",
    "  print(string_both_ends_3('xyz'))\n",
    "\n",
    "  print ('\\nReplace occurrences of first character')\n",
    "  print(first_char_replace('babble'))\n",
    "  print(first_char_replace('aardvark'))\n",
    "  print(first_char_replace('google'))\n",
    "  print(first_char_replace('Ooogle'))\n",
    "\n",
    "  print ('\\nString Jumble')\n",
    "  print(string_jumble('mix', 'pod'))\n",
    "  print(string_jumble('dog', 'dinner'))\n",
    "  print(string_jumble('gnash', 'sport'))\n",
    "  print(string_jumble('pezzy', 'firm'))\n",
    "\n",
    "  print ('\\nMatching first and last characters')\n",
    "  print(match_first_last(['aba', 'xyz', 'aa', 'a', 'bbb']))\n",
    "  print(match_first_last(['', 'x', 'ay', 'ayx', 'ax']))\n",
    "  print(match_first_last(['aaa', 'be', 'abc', 'aello']))\n",
    "\n",
    "  print ('\\nGroup string in a list')\n",
    "  print(group_strings(['bbb', 'ccc', 'axx', 'xzz', 'aaa']))\n",
    "  print(group_strings(['ccc', 'abb', 'aaa', 'xcc', 'aaa']))\n",
    "  print(group_strings(['mix', 'xyz', 'apple', 'xanadu', 'aardvark']))\n",
    "\n",
    "  print ('\\nsort_last')\n",
    "  print(sort_last([(1, 3), (3, 2), (2, 1)]))\n",
    "  print(sort_last([(2, 3), (1, 2), (3, 1)]))\n",
    "  print(sort_last([(1, 7), (1, 3), (3, 4, 5), (2, 2)]))"
   ]
  },
  {
   "cell_type": "code",
   "execution_count": null,
   "metadata": {
    "id": "cAmJUqYJbpwR"
   },
   "outputs": [],
   "source": [
    "'''\n",
    "Python files .py are modules. Modules can define variables, functions, and classes.\n",
    "When a Python interpreter reads a Python file, it first sets a few special variables.\n",
    "Then it executes the code from the file. \n",
    "\n",
    "One of those variables is called __name__.\n",
    "\n",
    "When the interpreter runs a module, the __name__ variable will be set as  __main__ \n",
    "if the module that is being run is the main program.\n",
    "\n",
    "If the code is importing the module from another module, then the __name__  \n",
    "variable will be set to that module’s name.\n",
    "'''\n",
    "# Standard boilerplate to call the main() function.\n",
    "if __name__ == '__main__':\n",
    "  main()"
   ]
  }
 ],
 "metadata": {
  "colab": {
   "name": "AI Lab 2 Exercise.ipynb",
   "provenance": []
  },
  "kernelspec": {
   "display_name": "Python 3",
   "language": "python",
   "name": "python3"
  },
  "language_info": {
   "codemirror_mode": {
    "name": "ipython",
    "version": 3
   },
   "file_extension": ".py",
   "mimetype": "text/x-python",
   "name": "python",
   "nbconvert_exporter": "python",
   "pygments_lexer": "ipython3",
   "version": "3.8.5"
  }
 },
 "nbformat": 4,
 "nbformat_minor": 1
}
