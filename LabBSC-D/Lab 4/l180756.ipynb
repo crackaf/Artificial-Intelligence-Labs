{
  "nbformat": 4,
  "nbformat_minor": 0,
  "metadata": {
    "colab": {
      "name": "l180756.ipynb",
      "provenance": [],
      "collapsed_sections": []
    },
    "kernelspec": {
      "name": "python3",
      "display_name": "Python 3"
    },
    "language_info": {
      "name": "python"
    }
  },
  "cells": [
    {
      "cell_type": "code",
      "metadata": {
        "colab": {
          "base_uri": "https://localhost:8080/"
        },
        "id": "fkrIoTWvlSfn",
        "outputId": "3b571825-fac0-4c25-ffd3-c69768a33b4f"
      },
      "source": [
        "lis=[1,2,3,4,5,6,7,8,9,10]\n",
        "even=list(filter(lambda num: (num%2==0), lis))\n",
        "print(even)\n",
        "odd=list(filter(lambda num: (num%2!=0), lis))\n",
        "print(odd)"
      ],
      "execution_count": 6,
      "outputs": [
        {
          "output_type": "stream",
          "text": [
            "[2, 4, 6, 8, 10]\n",
            "[1, 3, 5, 7, 9]\n"
          ],
          "name": "stdout"
        }
      ]
    },
    {
      "cell_type": "code",
      "metadata": {
        "colab": {
          "base_uri": "https://localhost:8080/"
        },
        "id": "S5Z2WVLswfhp",
        "outputId": "e3c49806-099c-4b61-a0a5-a2e9fc5eaab8"
      },
      "source": [
        "l1=[1,2,3,5,6]\n",
        "l2=[1,3,5]\n",
        "print(list(filter(lambda x: x not in l2, l1)))"
      ],
      "execution_count": 29,
      "outputs": [
        {
          "output_type": "stream",
          "text": [
            "[2, 6]\n"
          ],
          "name": "stdout"
        }
      ]
    },
    {
      "cell_type": "code",
      "metadata": {
        "colab": {
          "base_uri": "https://localhost:8080/"
        },
        "id": "c5GTL9MC2Wfk",
        "outputId": "6a00a941-5288-4d51-8a05-4b3d2dad7237"
      },
      "source": [
        "def addFive(function):\n",
        "    def wrapper(arg):\n",
        "        size=len(arg)\n",
        "        for i in range(size):\n",
        "            if i%2!=0:\n",
        "                arg[i]+=5\n",
        "        function(arg)\n",
        "    return wrapper\n",
        "\n",
        "def addIndex(function):\n",
        "    def wrapper(arg):\n",
        "        size=len(arg)\n",
        "        for i in range(size):\n",
        "            if i%2==0:\n",
        "                arg[i]+=i\n",
        "        function(arg)\n",
        "    return wrapper\n",
        "@addFive\n",
        "@addIndex\n",
        "def Encryption(lis):\n",
        "    return lis\n",
        "\n",
        "def subFive(function):\n",
        "    def wrapper(arg):\n",
        "        size=len(arg)\n",
        "        for i in range(size):\n",
        "            if i%2!=0:\n",
        "                arg[i]-=5\n",
        "        function(arg)\n",
        "    return wrapper\n",
        "\n",
        "def subIndex(function):\n",
        "    def wrapper(arg):\n",
        "        size=len(arg)\n",
        "        for i in range(size):\n",
        "            if i%2==0:\n",
        "                arg[i]-=i\n",
        "        function(arg)\n",
        "    return wrapper\n",
        "@subFive\n",
        "@subIndex\n",
        "def Decryption(lis):\n",
        "    return lis\n",
        "\n",
        "l=[1,2,3,4,5,6]\n",
        "print(\"Original list is: {0}\".format(l))\n",
        "Encryption(l)\n",
        "print(\"Encrypted list is: {0}\".format(l))\n",
        "Decryption(l)\n",
        "print(\"Decrypted list is: {0}\".format(l))"
      ],
      "execution_count": 45,
      "outputs": [
        {
          "output_type": "stream",
          "text": [
            "Original list is: [1, 2, 3, 4, 5, 6]\n",
            "Encrypted list is: [1, 7, 5, 9, 9, 11]\n",
            "Decrypted list is: [1, 2, 3, 4, 5, 6]\n"
          ],
          "name": "stdout"
        }
      ]
    },
    {
      "cell_type": "code",
      "metadata": {
        "id": "TE4kc1jn_Sr5"
      },
      "source": [
        "class graph:\n",
        "    def __init__(self,v=0,gDict=None):\n",
        "        if gDict is None:\n",
        "            gDict = {}\n",
        "            v=0\n",
        "        self.gDict = gDict\n",
        "        self.v=v\n",
        "    def getVertices(self):\n",
        "        return list(self.gDict.keys())\n",
        "    # Add the vertex as a key\n",
        "    def addVertex(self, vertex):\n",
        "        if vertex not in self.gDict:\n",
        "            self.gDict[vertex] = []\n",
        "    def edges(self):\n",
        "        return self.findedges()\n",
        "    #Add new edge\n",
        "    def addEdge(self, edge):\n",
        "        (vertex1, vertex2)=tuple(edge)\n",
        "        if vertex1 in self.gDict and vertex2 not in self.gDict[vertex1]:\n",
        "            self.gDict[vertex1].append(vertex2)\n",
        "        else:\n",
        "            self.gDict[vertex1]=[vertex2]\n",
        "    def TakeInput(self,n,w):\n",
        "        edge=[]\n",
        "        edge.append(n)\n",
        "        edge.append(w)\n",
        "        self.addEdge(edge)\n",
        "    \n",
        "    def fillGraph(self,fname):\n",
        "        if bool(self.gDict) == True:\n",
        "            self.gDict.clear()\n",
        "        adj=[]\n",
        "        file=open(fname,'r')\n",
        "        next(file)\n",
        "        for line in file:\n",
        "            l=line.split()\n",
        "            l[0]=l[0].replace(\":\",\"\")\n",
        "            self.addVertex(int(l[0]))\n",
        "            l.remove(l[0])\n",
        "            for i in range(len(l)):\n",
        "                l[i]=l[i].replace(\",\",\"\")\n",
        "            adj.append(l)\n",
        "        size1=len(adj)\n",
        "        i=0\n",
        "        while i<size1:\n",
        "            size2=len(adj[i])\n",
        "            j=0\n",
        "            while j<size2:\n",
        "                if adj[i][j] == '1':\n",
        "                    self.TakeInput(i,j)\n",
        "                j+=1\n",
        "            i+=1\n",
        "    \n",
        "    def __Explore(self, v, end, visited):\n",
        " \n",
        "        # Mark the current node as visited\n",
        "        # and print it\n",
        "        visited.add(v)\n",
        "        if v!=end:\n",
        "            print(v, end='->')\n",
        "        else:\n",
        "            print(v)\n",
        "            return\n",
        "        for neighbour in self.gDict[v]:\n",
        "            if neighbour not in visited:\n",
        "                self.__Explore(neighbour,end, visited)\n",
        " \n",
        "    def Explore(self, start, end):\n",
        " \n",
        "        visited=set() \n",
        "        self.__Explore(start,end,visited)\n",
        "\n",
        "    def printGraph(self):\n",
        "        print(self.gDict)"
      ],
      "execution_count": 144,
      "outputs": []
    },
    {
      "cell_type": "code",
      "metadata": {
        "id": "dI4etLHx7MsO"
      },
      "source": [
        "def main():\n",
        "    g=graph()\n",
        "    g.fillGraph(\"AdjacencyList.txt\")\n",
        "    g.printGraph()\n",
        "    g2=graph()\n",
        "    g2.TakeInput(0, 1)\n",
        "    g2.TakeInput(0, 2)\n",
        "    g2.TakeInput(1, 2)\n",
        "    g2.TakeInput(2, 0)\n",
        "    g2.TakeInput(2, 3)\n",
        "    g2.TakeInput(3, 3)\n",
        "    g2.printGraph()\n",
        "    g2.Explore(2,3)"
      ],
      "execution_count": 146,
      "outputs": []
    },
    {
      "cell_type": "code",
      "metadata": {
        "colab": {
          "base_uri": "https://localhost:8080/"
        },
        "id": "P_rgXXae7NT5",
        "outputId": "15ec85df-6b53-432d-bafd-4958196d99d2"
      },
      "source": [
        "if __name__ == '__main__':\n",
        "    main()"
      ],
      "execution_count": 147,
      "outputs": [
        {
          "output_type": "stream",
          "text": [
            "{0: [1, 3, 8], 1: [0, 7], 2: [3, 5, 7], 3: [0, 2, 4], 4: [3, 8], 5: [2, 6], 6: [5], 7: [1, 2], 8: [0, 4]}\n",
            "{0: [1, 2], 1: [2], 2: [0, 3], 3: [3]}\n",
            "2->0->1->3\n"
          ],
          "name": "stdout"
        }
      ]
    }
  ]
}