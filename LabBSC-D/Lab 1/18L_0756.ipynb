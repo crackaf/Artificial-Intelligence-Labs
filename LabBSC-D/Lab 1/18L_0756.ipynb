{
  "nbformat": 4,
  "nbformat_minor": 0,
  "metadata": {
    "colab": {
      "name": "18L-0756.ipynb",
      "provenance": []
    },
    "kernelspec": {
      "name": "python3",
      "display_name": "Python 3"
    }
  },
  "cells": [
    {
      "cell_type": "code",
      "metadata": {
        "colab": {
          "base_uri": "https://localhost:8080/"
        },
        "id": "4ND6Icvd2Ocg",
        "outputId": "83e24043-b02d-4e9f-b9ef-dc2c0d7b0cfc"
      },
      "source": [
        "def myPower(num, exp):\r\n",
        "    ans=num\r\n",
        "    for i in range(1,exp,1):\r\n",
        "      ans=ans*num\r\n",
        "    return ans\r\n",
        "\r\n",
        "x=myPower(3,3)\r\n",
        "print(x)\r\n",
        "x=myPower(2,3)\r\n",
        "print(x)\r\n",
        "x=myPower(2,4)\r\n",
        "print(x)"
      ],
      "execution_count": 1,
      "outputs": [
        {
          "output_type": "stream",
          "text": [
            "27\n",
            "8\n",
            "16\n"
          ],
          "name": "stdout"
        }
      ]
    },
    {
      "cell_type": "code",
      "metadata": {
        "colab": {
          "base_uri": "https://localhost:8080/"
        },
        "id": "wS7aUv8i2VFJ",
        "outputId": "547fd5e6-c7ba-416b-9fea-254a0a4174d9"
      },
      "source": [
        "def subTotal(arr):\r\n",
        "    size=len(arr)\r\n",
        "    for i in range(1, size, 1):\r\n",
        "      arr[i]=arr[i]+arr[i-1]\r\n",
        "    avg=arr[size-1]/size\r\n",
        "    return avg\r\n",
        "\r\n",
        "arr = [5.8, 2.6, 9.1, 3.4, 7.0]\r\n",
        "avg=subTotal(arr)\r\n",
        "print(avg)\r\n"
      ],
      "execution_count": 2,
      "outputs": [
        {
          "output_type": "stream",
          "text": [
            "5.58\n"
          ],
          "name": "stdout"
        }
      ]
    },
    {
      "cell_type": "code",
      "metadata": {
        "colab": {
          "base_uri": "https://localhost:8080/"
        },
        "id": "yAza95KN2Ya8",
        "outputId": "8f2d4bca-3e0a-4caf-8e3d-c356c9f5bdae"
      },
      "source": [
        "def counter(arr):\r\n",
        "  size=len(arr)\r\n",
        "  total=0\r\n",
        "  upper=0\r\n",
        "  lower=0\r\n",
        "  space=0\r\n",
        "  for i in range(0, size, 1):\r\n",
        "    if arr[i]>='!' and arr[i]<='~':\r\n",
        "       total=total+1\r\n",
        "    if arr[i]>='a' and arr[i]<='z':\r\n",
        "        lower=lower+1\r\n",
        "    elif arr[i]>='A' and arr[i]<='Z':\r\n",
        "         upper=upper+1\r\n",
        "    elif arr[i]==' ':\r\n",
        "      space=space+1\r\n",
        "  data=dict(totalLetters=total, upperCase=upper, lowerCase=lower, spaces=space)  \r\n",
        "  return data\r\n",
        "arr=\"Hello, I am a student of FAST University.\"\r\n",
        "ans=counter(arr)\r\n",
        "print(\"No. of letters are {}\".format(ans[\"totalLetters\"]))\r\n",
        "print(\"No. of spaces are {}\".format(ans[\"spaces\"]))\r\n",
        "print(\"No. of uppercase letters are {}\".format(ans[\"upperCase\"]))\r\n",
        "print(\"No. of lowercase letters are {}\".format(ans[\"lowerCase\"]))"
      ],
      "execution_count": 3,
      "outputs": [
        {
          "output_type": "stream",
          "text": [
            "No. of letters are 34\n",
            "No. of spaces are 7\n",
            "No. of uppercase letters are 7\n",
            "No. of lowercase letters are 25\n"
          ],
          "name": "stdout"
        }
      ]
    },
    {
      "cell_type": "code",
      "metadata": {
        "colab": {
          "base_uri": "https://localhost:8080/"
        },
        "id": "fUByUqRg2dCF",
        "outputId": "0835117c-f3b2-4bcf-e108-ca446148924b"
      },
      "source": [
        "def myMedian(arr):\r\n",
        "    size=len(arr)\r\n",
        "    for i in range(0, size, 1):\r\n",
        "      for j in range(0, size, 1):\r\n",
        "        if arr[i]<arr[j]:\r\n",
        "          temp=arr[j]\r\n",
        "          arr[j]=arr[i]\r\n",
        "          arr[i]=temp\r\n",
        "    temp=size\r\n",
        "    size=size//2\r\n",
        "    if temp%2==0:\r\n",
        "      num1=arr[size]\r\n",
        "      num2=arr[size+1]\r\n",
        "      median=(num1+num2)/2\r\n",
        "    else:\r\n",
        "      median=arr[size]\r\n",
        "    return median\r\n",
        "arr = [9, 7, 13, 12, 16]\r\n",
        "median=myMedian(arr)\r\n",
        "print(median)"
      ],
      "execution_count": 4,
      "outputs": [
        {
          "output_type": "stream",
          "text": [
            "12\n"
          ],
          "name": "stdout"
        }
      ]
    }
  ]
}