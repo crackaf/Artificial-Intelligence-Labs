{
  "nbformat": 4,
  "nbformat_minor": 0,
  "metadata": {
    "colab": {
      "name": "l180756.ipynb",
      "provenance": [],
      "collapsed_sections": []
    },
    "kernelspec": {
      "name": "python3",
      "display_name": "Python 3"
    },
    "language_info": {
      "name": "python"
    }
  },
  "cells": [
    {
      "cell_type": "code",
      "metadata": {
        "id": "AYibImjl44Ww"
      },
      "source": [
        "import random\n",
        "import numpy as np"
      ],
      "execution_count": 3,
      "outputs": []
    },
    {
      "cell_type": "code",
      "metadata": {
        "colab": {
          "base_uri": "https://localhost:8080/"
        },
        "id": "u8411hjR46nT",
        "outputId": "62b0ab5b-152d-46c5-bc99-af6c8a6400dc"
      },
      "source": [
        "initial_population = [\n",
        "                      [0, 1, 0, 1, 1, 0, 0, 1, 1, 1],\n",
        "                      [1, 1, 1, 1, 0, 1, 1, 1, 0, 0],\n",
        "                      [0, 1, 0, 0, 0, 0, 1, 1, 0, 1],\n",
        "                      [0, 0, 1, 0, 1, 1, 0, 0, 0, 0],\n",
        "                      [0, 0, 1, 1, 0, 0, 0, 0, 0, 1],\n",
        "                      [0, 1, 0, 1, 1, 0, 1, 0, 0, 0],\n",
        "                      [1, 1, 1, 0, 0, 0, 1, 0, 1, 0],\n",
        "                      [0, 0, 0, 0, 1, 1, 1, 0, 0, 0]\n",
        "                      ]\n",
        "initial_population = np.array(initial_population)\n",
        "item_weight = [3, 13, 10, 9, 7, 1, 8, 8, 2, 9]\n",
        "item_weight = np.array(item_weight)\n",
        "item_value = [266, 442, 671, 526, 388, 245, 210, 145, 126, 322]\n",
        "item_value = np.array(item_value)\n",
        "\n",
        "\n",
        "def cal_fitness(weight, val, population, capacity):\n",
        "    fitness = np.empty(population.shape[0])\n",
        "    for i in range(population.shape[0]):\n",
        "        val_sum = np.sum(population[i] * val)\n",
        "        weight_sum = np.sum(population[i] * weight)\n",
        "        if weight_sum <= capacity:\n",
        "            fitness[i] = val_sum\n",
        "        else :\n",
        "            fitness[i] = 0 \n",
        "    return fitness.astype(int)\n",
        "\n",
        "\n",
        "def crossover(population):\n",
        "    off_springs = []\n",
        "    for i in range(0, 8, 2):\n",
        "        off_spring1 = []\n",
        "        off_spring2 = []\n",
        "        parent_1 = population[i]\n",
        "        parent_2 = population[i+1]\n",
        "\n",
        "        off_spring1.extend(parent_1[:4])\n",
        "        off_spring1.extend(parent_2[4:])\n",
        "        off_spring2.extend(parent_2[:4])\n",
        "        off_spring2.extend(parent_1[4:])\n",
        "\n",
        "        off_springs.append(off_spring1)\n",
        "        off_springs.append(off_spring2)\n",
        "    \n",
        "    off_springs = np.array(off_springs)\n",
        "    return off_springs\n",
        "\n",
        "\n",
        "def mutate(population):\n",
        "    for i in range(population.shape[0]):\n",
        "        for j in range(3):\n",
        "            random_int = random.randint(0, population.shape[1] - 1)\n",
        "            if population[i][random_int] == 1:\n",
        "                population[i][random_int] = 0\n",
        "            else:\n",
        "                population[i][random_int] = 1\n",
        "\n",
        "\n",
        "def optimize(weight, val, population, capacity):\n",
        "    curr_population = population\n",
        "    prev_population = population\n",
        "    for i in range(1000):\n",
        "        new_generation = crossover(curr_population)\n",
        "        mutate(new_generation)\n",
        "        new_fitness = cal_fitness(weight, val, new_generation, capacity)\n",
        "        new_best_fitness = new_fitness.argsort()[-4:][::-1]\n",
        "        index = 0\n",
        "        curr_population = new_generation\n",
        "        for j in range(4):\n",
        "            new_generation[index] = curr_population[new_best_fitness[j]]\n",
        "            index+=1\n",
        "        prev_population_fitness = cal_fitness(weight, val, prev_population, capacity)\n",
        "        prev_best_fitness = prev_population_fitness.argsort()[-4:][::-1]\n",
        "        for j in range(4):\n",
        "            new_generation[index] = prev_population[prev_best_fitness[j]]\n",
        "            index+=1\n",
        "        curr_population = new_generation\n",
        "    current_fitness = cal_fitness(weight, val, curr_population, capacity)\n",
        "    best_current_fitness = current_fitness.argsort()\n",
        "    return curr_population[best_current_fitness[7]]\n",
        "\n",
        "knapsack = optimize(item_weight, item_value, initial_population, 35)\n",
        "print(knapsack)\n",
        "print(\"Selected items for the \")\n",
        "for i in range(knapsack.shape[0]):\n",
        "    if knapsack[i] == 1:\n",
        "        print(\"Item number: \", i+1)\n",
        "print(\"Collective item value is: \", np.sum(knapsack * item_value))\n",
        "print(\"Collective item weight is: {weight} KG\".format(weight = np.sum(knapsack * item_weight)))\n"
      ],
      "execution_count": 28,
      "outputs": [
        {
          "output_type": "stream",
          "text": [
            "[0 0 1 1 1 1 1 0 0 0]\n",
            "Selected items for the \n",
            "Item number:  3\n",
            "Item number:  4\n",
            "Item number:  5\n",
            "Item number:  6\n",
            "Item number:  7\n",
            "Collective item value is:  2040\n",
            "Collective item weight is: 35 KG\n"
          ],
          "name": "stdout"
        }
      ]
    }
  ]
}