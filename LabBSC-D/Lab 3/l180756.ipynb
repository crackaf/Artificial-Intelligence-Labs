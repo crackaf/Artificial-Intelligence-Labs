{
  "nbformat": 4,
  "nbformat_minor": 0,
  "metadata": {
    "colab": {
      "name": "l180756.ipynb",
      "provenance": []
    },
    "kernelspec": {
      "name": "python3",
      "display_name": "Python 3"
    },
    "language_info": {
      "name": "python"
    }
  },
  "cells": [
    {
      "cell_type": "code",
      "metadata": {
        "id": "kzyYxCelvyBR"
      },
      "source": [
        "import os"
      ],
      "execution_count": 9,
      "outputs": []
    },
    {
      "cell_type": "code",
      "metadata": {
        "colab": {
          "base_uri": "https://localhost:8080/"
        },
        "id": "Wu5qBmjgEfNE",
        "outputId": "c27f0acb-66b7-4538-9f15-551606cca8de"
      },
      "source": [
        "from google.colab import drive\n",
        "drive.mount('/content/drive')"
      ],
      "execution_count": 10,
      "outputs": [
        {
          "output_type": "stream",
          "text": [
            "Drive already mounted at /content/drive; to attempt to forcibly remount, call drive.mount(\"/content/drive\", force_remount=True).\n"
          ],
          "name": "stdout"
        }
      ]
    },
    {
      "cell_type": "code",
      "metadata": {
        "id": "QTT9ss86EiCx"
      },
      "source": [
        "def checkNonWord(word):\n",
        "    size=len(word)\n",
        "    flag=False\n",
        "    i=0\n",
        "    while i<size and flag==False:\n",
        "        if (word[i]>='!'and word[i]<='@') or (word[i]>='[' and word[i]<='`') or (word[i]>='{' and word[i]<='~'):\n",
        "            flag=True\n",
        "        i+=1\n",
        "    return flag\n",
        "\n",
        "def removeStopWords(wordList, stopList):\n",
        "    for word1 in stopList:\n",
        "        for word2 in wordList:\n",
        "            if word1 == word2:\n",
        "                wordList.remove(word2)\n",
        "\n",
        "def filterList(wordList, stopList):\n",
        "    size=len(wordList)\n",
        "    i=0\n",
        "    while i<size:\n",
        "        if checkNonWord(wordList[i])==True:\n",
        "            wordList.remove(wordList[i])\n",
        "            size-=1\n",
        "            i-=1\n",
        "        i+=1\n",
        "    size=len(wordList)\n",
        "    i=0\n",
        "    for i in range(size):\n",
        "        wordList[i]=wordList[i].lower()\n",
        "    removeStopWords(wordList, stopList)\n"
      ],
      "execution_count": 11,
      "outputs": []
    },
    {
      "cell_type": "code",
      "metadata": {
        "id": "P6jtI0GCEoLp"
      },
      "source": [
        "def getWordsList(filename, stopFile):\n",
        "    try:\n",
        "        f=open(filename,'r')\n",
        "        s=open(stopFile,'r')\n",
        "    except:\n",
        "        print('Could not open file '+ filename + ' or ' + stopFile)\n",
        "    wordList=[]\n",
        "    for line in f:\n",
        "        for word in line.split():\n",
        "            newWord=word.split('\\'')\n",
        "            size=len(newWord)\n",
        "            #if newWord list has apostrophe then combine it in a single word \n",
        "            combine=\"\"\n",
        "            for i in range(size):\n",
        "                combine+=newWord[i]\n",
        "            wordList.append(combine)\n",
        "    stopList=[]\n",
        "    for line in s:\n",
        "        for word in line.split():\n",
        "            stopList.append(word)\n",
        "    #preprocess list and filter it\n",
        "    filterList(wordList,stopList)\n",
        "    return wordList\n",
        "\n",
        "def printWord(wordList):\n",
        "    totalWords=len(wordList)\n",
        "    data=set(zip(wordList,map(wordList.count,wordList)))\n",
        "    data=list(data)\n",
        "    data=list(map(list,data))\n",
        "    size=len(data)\n",
        "    for i in range(size):\n",
        "      data[i].append(data[i][1]/totalWords)\n",
        "    data.sort(key = lambda x: x[2], reverse=True)\n",
        "    print('Word\\t\\tCount\\t\\tProbability')\n",
        "    for i in range(100):\n",
        "        if len(data[i][0])<8:\n",
        "            txt = \"{word}\\t\\t{count}\\t\\t{probability:.5f}\"\n",
        "        else:\n",
        "           txt = \"{word}\\t{count}\\t\\t{probability:.5f}\"\n",
        "        print(txt.format(word=data[i][0], count=data[i][1], probability=data[i][2]))"
      ],
      "execution_count": 30,
      "outputs": []
    },
    {
      "cell_type": "code",
      "metadata": {
        "id": "4HsIKyntEsWY"
      },
      "source": [
        "def main():\n",
        "    cwd = os.getcwd()  # Get the current working directory (cwd)\n",
        "    files = os.listdir(cwd)  # Get all the files in that directory\n",
        "    stopWords=files[files.index(\"StopWords.txt\")]\n",
        "    files.remove(\"StopWords.txt\")\n",
        "    file_count=len(files)\n",
        "    lists=[]\n",
        "    for i in range(file_count):\n",
        "        list1=getWordsList(files[i],stopWords)\n",
        "        lists.extend(list1)\n",
        "    printWord(lists)"
      ],
      "execution_count": 32,
      "outputs": []
    },
    {
      "cell_type": "code",
      "metadata": {
        "colab": {
          "base_uri": "https://localhost:8080/"
        },
        "id": "EIbn82l_EuSZ",
        "outputId": "2be670ca-7f34-4a7d-e9c2-f8033b1a3883"
      },
      "source": [
        "if __name__ == '__main__':\n",
        "    main()"
      ],
      "execution_count": 33,
      "outputs": [
        {
          "output_type": "stream",
          "text": [
            "Word\t\tCount\t\tProbability\n",
            "film\t\t2110\t\t0.01656\n",
            "movie\t\t1003\t\t0.00787\n",
            "story\t\t528\t\t0.00414\n",
            "films\t\t520\t\t0.00408\n",
            "time\t\t485\t\t0.00381\n",
            "characters\t456\t\t0.00358\n",
            "character\t432\t\t0.00339\n",
            "life\t\t396\t\t0.00311\n",
            "little\t\t358\t\t0.00281\n",
            "people\t\t346\t\t0.00272\n",
            "scene\t\t306\t\t0.00240\n",
            "movies\t\t304\t\t0.00239\n",
            "scenes\t\t298\t\t0.00234\n",
            "world\t\t271\t\t0.00213\n",
            "hes\t\t257\t\t0.00202\n",
            "plot\t\t257\t\t0.00202\n",
            "love\t\t248\t\t0.00195\n",
            "makes\t\t243\t\t0.00191\n",
            "seen\t\t240\t\t0.00188\n",
            "doesnt\t\t239\t\t0.00188\n",
            "dont\t\t236\t\t0.00185\n",
            "performance\t230\t\t0.00181\n",
            "own\t\t219\t\t0.00172\n",
            "role\t\t216\t\t0.00170\n",
            "director\t213\t\t0.00167\n",
            "family\t\t212\t\t0.00166\n",
            "action\t\t206\t\t0.00162\n",
            "the\t\t204\t\t0.00160\n",
            "real\t\t197\t\t0.00155\n",
            "audience\t196\t\t0.00154\n",
            "comes\t\t178\t\t0.00140\n",
            "funny\t\t177\t\t0.00139\n",
            "theres\t\t175\t\t0.00137\n",
            "lot\t\t170\t\t0.00133\n",
            "comedy\t\t168\t\t0.00132\n",
            "actually\t167\t\t0.00131\n",
            "played\t\t167\t\t0.00131\n",
            "cast\t\t165\t\t0.00130\n",
            "look\t\t164\t\t0.00129\n",
            "takes\t\t164\t\t0.00129\n",
            "bad\t\t164\t\t0.00129\n",
            "star\t\t163\t\t0.00128\n",
            "john\t\t162\t\t0.00127\n",
            "american\t161\t\t0.00126\n",
            "plays\t\t161\t\t0.00126\n",
            "original\t159\t\t0.00125\n",
            "fun\t\t155\t\t0.00122\n",
            "thats\t\t155\t\t0.00122\n",
            "isnt\t\t151\t\t0.00119\n",
            "actors\t\t147\t\t0.00115\n",
            "course\t\t146\t\t0.00115\n",
            "day\t\t146\t\t0.00115\n",
            "effects\t\t145\t\t0.00114\n",
            "screen\t\t144\t\t0.00113\n",
            "father\t\t139\t\t0.00109\n",
            "home\t\t139\t\t0.00109\n",
            "bit\t\t136\t\t0.00107\n",
            "job\t\t135\t\t0.00106\n",
            "hollywood\t135\t\t0.00106\n",
            "times\t\t135\t\t0.00106\n",
            "sense\t\t135\t\t0.00106\n",
            "script\t\t135\t\t0.00106\n",
            "help\t\t135\t\t0.00106\n",
            "wife\t\t133\t\t0.00104\n",
            "goes\t\t133\t\t0.00104\n",
            "instead\t\t128\t\t0.00100\n",
            "feel\t\t125\t\t0.00098\n",
            "picture\t\t125\t\t0.00098\n",
            "probably\t125\t\t0.00098\n",
            "music\t\t125\t\t0.00098\n",
            "acting\t\t124\t\t0.00097\n",
            "series\t\t124\t\t0.00097\n",
            "watch\t\t123\t\t0.00097\n",
            "actor\t\t122\t\t0.00096\n",
            "special\t\t121\t\t0.00095\n",
            "didnt\t\t121\t\t0.00095\n",
            "hard\t\t119\t\t0.00093\n",
            "jackie\t\t119\t\t0.00093\n",
            "woman\t\t119\t\t0.00093\n",
            "war\t\t119\t\t0.00093\n",
            "performances\t118\t\t0.00093\n",
            "pretty\t\t115\t\t0.00090\n",
            "im\t\t114\t\t0.00089\n",
            "alien\t\t114\t\t0.00089\n",
            "cant\t\t113\t\t0.00089\n",
            "minutes\t\t113\t\t0.00089\n",
            "set\t\t113\t\t0.00089\n",
            "watching\t111\t\t0.00087\n",
            "moments\t\t110\t\t0.00086\n",
            "human\t\t110\t\t0.00086\n",
            "especially\t110\t\t0.00086\n",
            "begins\t\t110\t\t0.00086\n",
            "true\t\t109\t\t0.00086\n",
            "comic\t\t107\t\t0.00084\n",
            "fiction\t\t106\t\t0.00083\n",
            "horror\t\t105\t\t0.00082\n",
            "mother\t\t105\t\t0.00082\n",
            "death\t\t105\t\t0.00082\n",
            "black\t\t101\t\t0.00079\n",
            "trying\t\t99\t\t0.00078\n"
          ],
          "name": "stdout"
        }
      ]
    }
  ]
}