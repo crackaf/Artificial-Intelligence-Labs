{
  "nbformat": 4,
  "nbformat_minor": 0,
  "metadata": {
    "colab": {
      "name": "l180756.ipynb",
      "provenance": [],
      "collapsed_sections": []
    },
    "kernelspec": {
      "name": "python3",
      "display_name": "Python 3"
    },
    "language_info": {
      "name": "python"
    }
  },
  "cells": [
    {
      "cell_type": "code",
      "metadata": {
        "id": "mZ2V-vy4KX1c"
      },
      "source": [
        "def verbing(s):\n",
        "  # +++your code here+++\n",
        "  # LAB(begin solution)\n",
        "  size=len(s)\n",
        "  if size<3:\n",
        "    return s\n",
        "  if s.endswith(\"ing\")==False:\n",
        "    s+=\"ing\"\n",
        "  else:\n",
        "    s+=\"ly\"\n",
        "  return s\n",
        "  # LAB(end solution)"
      ],
      "execution_count": 41,
      "outputs": []
    },
    {
      "cell_type": "code",
      "metadata": {
        "id": "6XLBuJ7qKVc_"
      },
      "source": [
        "def not_bad(s):\n",
        "  # +++your code here+++\n",
        "  # LAB(begin solution)\n",
        "  notOccur=s.find(\"not\")\n",
        "  badOccur=s.find(\"bad\")\n",
        "  if notOccur<badOccur:\n",
        "    s=s[:notOccur]+\"good\"+s[badOccur+3:]\n",
        "  return s\n",
        "  # LAB(end solution)"
      ],
      "execution_count": 73,
      "outputs": []
    },
    {
      "cell_type": "code",
      "metadata": {
        "id": "rHM9y9yjKU8j"
      },
      "source": [
        "import math\n",
        "def front_back(a, b):\n",
        "  # +++your code here+++\n",
        "  # LAB(begin solution)\n",
        "  aHalf=math.ceil(len(a)/2)\n",
        "  bHalf=math.ceil(len(b)/2)\n",
        "  aFront=a[:aHalf]\n",
        "  aBack=a[aHalf:]\n",
        "  bFront=b[:bHalf]\n",
        "  bBack=b[bHalf:]\n",
        "  s=aFront+bFront+aBack+bBack\n",
        "  return s\n",
        "  # LAB(end solution)"
      ],
      "execution_count": 49,
      "outputs": []
    },
    {
      "cell_type": "code",
      "metadata": {
        "id": "VVexaC52JXNg"
      },
      "source": [
        "def remove_adjacent(nums):\n",
        "  # +++your code here+++\n",
        "  # LAB(begin solution)\n",
        "  i = 1\n",
        "  while i < len(nums):    \n",
        "    if nums[i] == nums[i-1]:\n",
        "      nums.pop(i)\n",
        "      i -= 1  \n",
        "    i += 1\n",
        "  return nums\n",
        "  # LAB(end solution)"
      ],
      "execution_count": 44,
      "outputs": []
    },
    {
      "cell_type": "code",
      "metadata": {
        "id": "wSeuLqs4JOZk"
      },
      "source": [
        "def linear_merge(list1, list2):\n",
        "  # +++your code here+++\n",
        "  # LAB(begin solution)\n",
        "  size1=len(list1)\n",
        "  size2=len(list2)\n",
        "  mergedList = []\n",
        "  i, j = 0, 0\n",
        "  \n",
        "  while i < size1 and j < size2:\n",
        "    if list1[i] < list2[j]:\n",
        "      mergedList.append(list1[i])\n",
        "      i += 1\n",
        "    else:\n",
        "      mergedList.append(list2[j])\n",
        "      j += 1\n",
        "  mergedList = mergedList + list1[i:] + list2[j:]\n",
        "  return mergedList\n",
        "  # LAB(end solution)"
      ],
      "execution_count": 51,
      "outputs": []
    },
    {
      "cell_type": "code",
      "metadata": {
        "id": "4zwDRf_CH3-O"
      },
      "source": [
        "def main():\n",
        "  print ('verbing')\n",
        "  print('Actual: %s Expected: %s' % (verbing('hail'), 'hailing'))\n",
        "  print('Actual: %s Expected: %s' % (verbing('swiming'), 'swimingly'))\n",
        "  print('Actual: %s Expected: %s' % (verbing('do'), 'do'))\n",
        "\n",
        "  print\n",
        "  print ('not_bad')\n",
        "  print('Actual: %s Expected: %s' % (not_bad('This movie is not so bad'), 'This movie is good'))\n",
        "  print('Actual: %s Expected: %s' % (not_bad('This dinner is not that bad!'), 'This dinner is good!'))\n",
        "  print('Actual: %s Expected: %s' % (not_bad('This tea is not hot'), 'This tea is not hot'))\n",
        "  print('Actual: %s Expected: %s' % (not_bad(\"It's bad yet not\"), \"It's bad yet not\"))\n",
        "\n",
        "  print\n",
        "  print ('front_back')\n",
        "  print('Actual: %s Expected: %s' % (front_back('abcd', 'xy'), 'abxcdy'))\n",
        "  print('Actual: %s Expected: %s' % (front_back('abcde', 'xyz'), 'abcxydez'))\n",
        "  print('Actual: %s Expected: %s' % (front_back('Kitten', 'Donut'), 'KitDontenut'))\n",
        "\n",
        "  print ('remove_adjacent')\n",
        "  print('Actual: %s Expected: %s' % (remove_adjacent([1, 2, 2, 3]), [1, 2, 3]))\n",
        "  print('Actual: %s Expected: %s' % (remove_adjacent([2, 2, 3, 3, 3]), [2, 3]))\n",
        "  print('Actual: %s Expected: %s' % (remove_adjacent([]), []))\n",
        "\n",
        "  print\n",
        "  print ('linear_merge')\n",
        "  print('Actual: %s Expected: %s' % (linear_merge(['aa', 'xx', 'zz'], ['bb', 'cc']),\n",
        "       ['aa', 'bb', 'cc', 'xx', 'zz']))\n",
        "  print('Actual: %s Expected: %s' % (linear_merge(['aa', 'xx'], ['bb', 'cc', 'zz']),\n",
        "       ['aa', 'bb', 'cc', 'xx', 'zz']))\n",
        "  print('Actual: %s Expected: %s' % (linear_merge(['aa', 'aa'], ['aa', 'bb', 'bb']),\n",
        "       ['aa', 'aa', 'aa', 'bb', 'bb']))\n"
      ],
      "execution_count": 74,
      "outputs": []
    },
    {
      "cell_type": "code",
      "metadata": {
        "id": "IOHxSo9EHvWi",
        "colab": {
          "base_uri": "https://localhost:8080/"
        },
        "outputId": "6c3f9f5d-a700-4b34-89e0-2407aa380f55"
      },
      "source": [
        "'''\n",
        "Python files .py are modules. Modules can define variables, functions, and classes.\n",
        "When a Python interpreter reads a Python file, it first sets a few special variables.\n",
        "Then it executes the code from the file. \n",
        "\n",
        "One of those variables is called __name__.\n",
        "\n",
        "When the interpreter runs a module, the __name__ variable will be set as  __main__ \n",
        "if the module that is being run is the main program.\n",
        "\n",
        "If the code is importing the module from another module, then the __name__  \n",
        "variable will be set to that module’s name.\n",
        "'''\n",
        "# Standard boilerplate to call the main() function.\n",
        "if __name__ == '__main__':\n",
        "  main()"
      ],
      "execution_count": 75,
      "outputs": [
        {
          "output_type": "stream",
          "text": [
            "verbing\n",
            "Actual: hailing Expected: hailing\n",
            "Actual: swimingly Expected: swimingly\n",
            "Actual: do Expected: do\n",
            "not_bad\n",
            "Actual: This movie is good Expected: This movie is good\n",
            "Actual: This dinner is good! Expected: This dinner is good!\n",
            "Actual: This tea is not hot Expected: This tea is not hot\n",
            "Actual: It's bad yet not Expected: It's bad yet not\n",
            "front_back\n",
            "Actual: abxcdy Expected: abxcdy\n",
            "Actual: abcxydez Expected: abcxydez\n",
            "Actual: KitDontenut Expected: KitDontenut\n",
            "remove_adjacent\n",
            "Actual: [1, 2, 3] Expected: [1, 2, 3]\n",
            "Actual: [2, 3] Expected: [2, 3]\n",
            "Actual: [] Expected: []\n",
            "linear_merge\n",
            "Actual: ['aa', 'bb', 'cc', 'xx', 'zz'] Expected: ['aa', 'bb', 'cc', 'xx', 'zz']\n",
            "Actual: ['aa', 'bb', 'cc', 'xx', 'zz'] Expected: ['aa', 'bb', 'cc', 'xx', 'zz']\n",
            "Actual: ['aa', 'aa', 'aa', 'bb', 'bb'] Expected: ['aa', 'aa', 'aa', 'bb', 'bb']\n"
          ],
          "name": "stdout"
        }
      ]
    }
  ]
}