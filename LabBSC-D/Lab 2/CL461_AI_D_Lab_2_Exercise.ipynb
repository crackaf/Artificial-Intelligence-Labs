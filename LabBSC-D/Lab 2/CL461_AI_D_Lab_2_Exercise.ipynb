{
 "cells": [
  {
   "cell_type": "code",
   "execution_count": 23,
   "metadata": {
    "id": "mZ2V-vy4KX1c"
   },
   "outputs": [],
   "source": [
    "def verbing(s):\n",
    "  # +++your code here+++\n",
    "  # LAB(begin solution)\n",
    "  pass\n",
    "  # LAB(end solution)"
   ]
  },
  {
   "cell_type": "code",
   "execution_count": 24,
   "metadata": {
    "id": "6XLBuJ7qKVc_"
   },
   "outputs": [],
   "source": [
    "def not_bad(s):\n",
    "  # +++your code here+++\n",
    "  # LAB(begin solution)\n",
    "  pass\n",
    "  # LAB(end solution)"
   ]
  },
  {
   "cell_type": "code",
   "execution_count": 25,
   "metadata": {
    "id": "rHM9y9yjKU8j"
   },
   "outputs": [],
   "source": [
    "def front_back(a, b):\n",
    "  # +++your code here+++\n",
    "  # LAB(begin solution)\n",
    "  pass\n",
    "  # LAB(end solution)"
   ]
  },
  {
   "cell_type": "code",
   "execution_count": 26,
   "metadata": {
    "id": "VVexaC52JXNg"
   },
   "outputs": [],
   "source": [
    "def remove_adjacent(nums):\n",
    "  # +++your code here+++\n",
    "  # LAB(begin solution)\n",
    "  pass\n",
    "  # LAB(end solution)"
   ]
  },
  {
   "cell_type": "code",
   "execution_count": 27,
   "metadata": {
    "id": "wSeuLqs4JOZk"
   },
   "outputs": [],
   "source": [
    "def linear_merge(list1, list2):\n",
    "  # +++your code here+++\n",
    "  # LAB(begin solution)\n",
    "  pass\n",
    "  # LAB(end solution)"
   ]
  },
  {
   "cell_type": "code",
   "execution_count": 28,
   "metadata": {
    "id": "4zwDRf_CH3-O"
   },
   "outputs": [],
   "source": [
    "def main():\n",
    "  print ('verbing')\n",
    "  print('Actual: %s Expected: %s' % (verbing('hail'), 'hailing'))\n",
    "  print('Actual: %s Expected: %s' % (verbing('swiming'), 'swimingly'))\n",
    "  print('Actual: %s Expected: %s' % (verbing('do'), 'do'))\n",
    "\n",
    "  print\n",
    "  print ('not_bad')\n",
    "  print('Actual: %s Expected: %s' % (not_bad('This movie is not so bad'), 'This movie is good'))\n",
    "  print('Actual: %s Expected: %s' % (not_bad('This dinner is not that bad!'), 'This dinner is good!'))\n",
    "  print('Actual: %s Expected: %s' % (not_bad('This tea is not hot'), 'This tea is not hot'))\n",
    "  print('Actual: %s Expected: %s' % (not_bad(\"It's bad yet not\"), \"It's bad yet not\"))\n",
    "\n",
    "  print\n",
    "  print ('front_back')\n",
    "  print('Actual: %s Expected: %s' % (front_back('abcd', 'xy'), 'abxcdy'))\n",
    "  print('Actual: %s Expected: %s' % (front_back('abcde', 'xyz'), 'abcxydez'))\n",
    "  print('Actual: %s Expected: %s' % (front_back('Kitten', 'Donut'), 'KitDontenut'))\n",
    "\n",
    "  print ('remove_adjacent')\n",
    "  print('Actual: %s Expected: %s' % (remove_adjacent([1, 2, 2, 3]), [1, 2, 3]))\n",
    "  print('Actual: %s Expected: %s' % (remove_adjacent([2, 2, 3, 3, 3]), [2, 3]))\n",
    "  print('Actual: %s Expected: %s' % (remove_adjacent([]), []))\n",
    "\n",
    "  print\n",
    "  print ('linear_merge')\n",
    "  print('Actual: %s Expected: %s' % (linear_merge(['aa', 'xx', 'zz'], ['bb', 'cc']),\n",
    "       ['aa', 'bb', 'cc', 'xx', 'zz']))\n",
    "  print('Actual: %s Expected: %s' % (linear_merge(['aa', 'xx'], ['bb', 'cc', 'zz']),\n",
    "       ['aa', 'bb', 'cc', 'xx', 'zz']))\n",
    "  print('Actual: %s Expected: %s' % (linear_merge(['aa', 'aa'], ['aa', 'bb', 'bb']),\n",
    "       ['aa', 'aa', 'aa', 'bb', 'bb']))\n"
   ]
  },
  {
   "cell_type": "code",
   "execution_count": null,
   "metadata": {
    "id": "IOHxSo9EHvWi"
   },
   "outputs": [],
   "source": [
    "'''\n",
    "Python files .py are modules. Modules can define variables, functions, and classes.\n",
    "When a Python interpreter reads a Python file, it first sets a few special variables.\n",
    "Then it executes the code from the file. \n",
    "\n",
    "One of those variables is called __name__.\n",
    "\n",
    "When the interpreter runs a module, the __name__ variable will be set as  __main__ \n",
    "if the module that is being run is the main program.\n",
    "\n",
    "If the code is importing the module from another module, then the __name__  \n",
    "variable will be set to that module’s name.\n",
    "'''\n",
    "# Standard boilerplate to call the main() function.\n",
    "if __name__ == '__main__':\n",
    "  main()"
   ]
  }
 ],
 "metadata": {
  "colab": {
   "name": "CL461_AI-D_Lab_2_Exercise.ipynb",
   "provenance": [],
   "collapsed_sections": []
  },
  "kernelspec": {
   "name": "python3",
   "display_name": "Python 3"
  },
  "language_info": {
   "name": "python"
  }
 },
 "nbformat": 4,
 "nbformat_minor": 0
}
